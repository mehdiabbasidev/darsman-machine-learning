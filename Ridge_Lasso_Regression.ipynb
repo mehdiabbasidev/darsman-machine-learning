{
  "nbformat": 4,
  "nbformat_minor": 0,
  "metadata": {
    "colab": {
      "provenance": [],
      "collapsed_sections": [
        "FZU-0t3SBAfY",
        "jxipx8h17KKR"
      ],
      "authorship_tag": "ABX9TyOwGq4OnaMmazjv5zvHQ+zR",
      "include_colab_link": true
    },
    "kernelspec": {
      "name": "python3",
      "display_name": "Python 3"
    },
    "language_info": {
      "name": "python"
    }
  },
  "cells": [
    {
      "cell_type": "markdown",
      "metadata": {
        "id": "view-in-github",
        "colab_type": "text"
      },
      "source": [
        "<a href=\"https://colab.research.google.com/github/mehdiabbasidev/darsman-machine-learning/blob/main/Ridge_Lasso_Regression.ipynb\" target=\"_parent\"><img src=\"https://colab.research.google.com/assets/colab-badge.svg\" alt=\"Open In Colab\"/></a>"
      ]
    },
    {
      "cell_type": "markdown",
      "source": [
        "## Data set download link:\n",
        "https://drive.google.com/file/d/1YYUpJx5_xttmji1VEV6XFaSdkaNd8NDf/view?usp=sharing"
      ],
      "metadata": {
        "id": "yi1LpLXct786"
      }
    },
    {
      "cell_type": "code",
      "source": [],
      "metadata": {
        "id": "bS14N5G7uE3e"
      },
      "execution_count": null,
      "outputs": []
    },
    {
      "cell_type": "markdown",
      "source": [
        "## auto-mpg : داده ها مشخصات فنی خودروها است\n",
        "* mpg:  مایل با هر گالن\n",
        "* cylinders: تعداد سیلندرها\n",
        "* displacement: جابجایی\n",
        "* horsepower: اسب بخار\n",
        "* weight: وزن\n",
        "* acceleration: شتاب\n",
        "* model year: سال مدل\n",
        "* origin: منشأ\n",
        "* car name: نام خودرو"
      ],
      "metadata": {
        "id": "I2qc6q8eul_U"
      }
    },
    {
      "cell_type": "code",
      "execution_count": null,
      "metadata": {
        "id": "WKpQIFmJq0UW"
      },
      "outputs": [],
      "source": [
        "from google.colab import drive\n",
        "drive.mount('/content/drive')"
      ]
    },
    {
      "cell_type": "code",
      "source": [
        "import numpy as np\n",
        "import pandas as pd\n",
        "import matplotlib.pyplot as plt\n",
        "from sklearn.linear_model import LinearRegression\n",
        "from sklearn.model_selection import train_test_split\n",
        "from sklearn.metrics import r2_score\n",
        "from sklearn.linear_model import Ridge\n",
        "from sklearn.linear_model import Lasso\n",
        "import seaborn as sns\n",
        "from sklearn import preprocessing\n",
        "%matplotlib inline"
      ],
      "metadata": {
        "id": "Gox8udd0rM5H"
      },
      "execution_count": null,
      "outputs": []
    },
    {
      "cell_type": "code",
      "source": [
        "df = pd.read_csv(\"/content/drive/MyDrive/datasets/auto-mpg.csv\")\n",
        "df.head()"
      ],
      "metadata": {
        "id": "Eu-jB9sqtSS6"
      },
      "execution_count": null,
      "outputs": []
    },
    {
      "cell_type": "code",
      "source": [
        "df.head()\n",
        "df.shape\n",
        "df.columns\n",
        "df.dtypes\n",
        "df.duplicated().sum()\n",
        "df.nunique()\n",
        "df.cylinders.nunique()\n",
        "df.info()\n",
        "df.describe()\n",
        "df.isnull().sum()\n",
        "df.corr(numeric_only=True)\n",
        "df['cylinders'].value_counts()\n",
        "df['origin'].value_counts().to_frame()\n",
        "(df['horsepower'].str.isnumeric()==False).sum()\n",
        "(df['horsepower']=='?').sum()\n",
        "(df=='?').sum()\n",
        "df[df['horsepower']=='?']\n",
        "\n",
        "df[df['origin']==1].shape\n",
        "df[df['origin']==2].shape\n",
        "df[df['origin']==3].shape"
      ],
      "metadata": {
        "id": "p4NgT_mAuEoK",
        "colab": {
          "base_uri": "https://localhost:8080/"
        },
        "outputId": "0ccae2ed-ae27-48c8-c8e3-83f770880464"
      },
      "execution_count": null,
      "outputs": [
        {
          "output_type": "execute_result",
          "data": {
            "text/plain": [
              "(79, 9)"
            ]
          },
          "metadata": {},
          "execution_count": 263
        }
      ]
    },
    {
      "cell_type": "markdown",
      "source": [
        "### Data Cleaning"
      ],
      "metadata": {
        "id": "FZU-0t3SBAfY"
      }
    },
    {
      "cell_type": "code",
      "source": [
        "df=df.replace('?',np.nan)"
      ],
      "metadata": {
        "id": "IhBcexne06hx"
      },
      "execution_count": null,
      "outputs": []
    },
    {
      "cell_type": "code",
      "source": [
        "df=df.drop('car name',axis=1)\n",
        "df.head()"
      ],
      "metadata": {
        "id": "JfUOFsDhuIS5"
      },
      "execution_count": null,
      "outputs": []
    },
    {
      "cell_type": "code",
      "source": [
        "df=df.apply(lambda x: x.fillna(x.median()),axis=0)"
      ],
      "metadata": {
        "id": "g9KT_E-HmOZT"
      },
      "execution_count": null,
      "outputs": []
    },
    {
      "cell_type": "code",
      "source": [
        "df[\"horsepower\"] = df[\"horsepower\"].astype(int)\n",
        "df.dtypes"
      ],
      "metadata": {
        "id": "mCR83N5l-QY4"
      },
      "execution_count": null,
      "outputs": []
    },
    {
      "cell_type": "markdown",
      "source": [
        "### Data Visualization"
      ],
      "metadata": {
        "id": "jxipx8h17KKR"
      }
    },
    {
      "cell_type": "code",
      "source": [
        "plt.figure(figsize=(15,8))\n",
        "corr = df.corr()\n",
        "mask = np.triu(corr)\n",
        "sns.heatmap(corr,square=True, mask= mask, annot= True, fmt = '.2f')\n",
        "plt.show()"
      ],
      "metadata": {
        "id": "NiWlM-xH7UTB"
      },
      "execution_count": null,
      "outputs": []
    },
    {
      "cell_type": "code",
      "source": [
        "plt.figure(figsize=(10,5))\n",
        "ax = sns.countplot(data = df,x = 'origin')\n",
        "ax.bar_label(ax.containers[0], label_type='edge')\n",
        "plt.title(\"origin distribution\")\n",
        "plt.xlabel(\"Origin\")\n",
        "plt.ylabel(\"Car count\")\n",
        "plt.show()"
      ],
      "metadata": {
        "id": "30BM1P4Z_f43"
      },
      "execution_count": null,
      "outputs": []
    },
    {
      "cell_type": "code",
      "source": [
        "plt.figure(figsize=(10,5))\n",
        "sns.pointplot(x = 'model year', y = 'mpg', hue = 'origin', data = df, errorbar=None);\n",
        "plt.title(\"model year - mpg based on origin\")\n",
        "plt.xlabel(\"model year\")\n",
        "plt.ylabel(\"mpg\")\n",
        "plt.show()"
      ],
      "metadata": {
        "id": "nvLuEnXp_9vI"
      },
      "execution_count": null,
      "outputs": []
    },
    {
      "cell_type": "code",
      "source": [
        "plt.figure(figsize=(10,5))\n",
        "plt.xlabel(\"year\", fontsize = 15)\n",
        "plt.ylabel(\"mpg\", fontsize = 15)\n",
        "sns.lineplot(x = 'model year', y = 'mpg', data = df);"
      ],
      "metadata": {
        "id": "7AamU5ZO8IDI"
      },
      "execution_count": null,
      "outputs": []
    },
    {
      "cell_type": "code",
      "source": [
        "ax = sns.countplot(x = 'cylinders', data = df, color = '#4287f5')\n",
        "ax.bar_label(ax.containers[0], label_type='edge')\n",
        "plt.xlabel(\"cylinder\", fontsize = 15)\n",
        "plt.ylabel(\"cars count\", fontsize = 15)\n",
        "plt.show()"
      ],
      "metadata": {
        "id": "V5Qfz76_84nn"
      },
      "execution_count": null,
      "outputs": []
    },
    {
      "cell_type": "code",
      "source": [
        "sns.scatterplot(x = 'horsepower',y = 'mpg',  data = df)\n",
        "plt.title(\"horsepower - mpg\")\n",
        "plt.xlabel(\"horsepower\")\n",
        "plt.ylabel(\"mpg\")\n",
        "plt.show()"
      ],
      "metadata": {
        "id": "4DpoB7zZ9YYH"
      },
      "execution_count": null,
      "outputs": []
    },
    {
      "cell_type": "markdown",
      "source": [
        "### Create Model"
      ],
      "metadata": {
        "id": "yeUifKK38D4w"
      }
    },
    {
      "cell_type": "code",
      "source": [
        "X = df.drop('mpg', axis=1)\n",
        "y = df[['mpg']]\n",
        "X.shape\n",
        "y.shape"
      ],
      "metadata": {
        "id": "3IivqdjWxVjJ",
        "colab": {
          "base_uri": "https://localhost:8080/"
        },
        "outputId": "f58f17f0-5773-4118-c8a8-0db6fece611c"
      },
      "execution_count": null,
      "outputs": [
        {
          "output_type": "execute_result",
          "data": {
            "text/plain": [
              "(398, 1)"
            ]
          },
          "metadata": {},
          "execution_count": 279
        }
      ]
    },
    {
      "cell_type": "code",
      "source": [
        "# X_scaled = preprocessing.scale(X)\n",
        "# X_scaled = pd.DataFrame(X_scaled, columns=X.columns)\n",
        "\n",
        "# y_scaled = preprocessing.scale(y)\n",
        "# y_scaled = pd.DataFrame(y_scaled, columns=y.columns)\n",
        "\n",
        "# X_scaled.shape\n",
        "# y_scaled.shape"
      ],
      "metadata": {
        "id": "hUe3Qa5d0Kww"
      },
      "execution_count": null,
      "outputs": []
    },
    {
      "cell_type": "code",
      "source": [
        "X_train, X_test, y_train, y_test = train_test_split(X, y, test_size=0.2, random_state=1)"
      ],
      "metadata": {
        "id": "lAsuUCeW1xa4"
      },
      "execution_count": null,
      "outputs": []
    },
    {
      "cell_type": "code",
      "source": [
        "model = LinearRegression()\n",
        "model.fit(X_train, y_train)"
      ],
      "metadata": {
        "id": "caYIutQWlHB7"
      },
      "execution_count": null,
      "outputs": []
    },
    {
      "cell_type": "code",
      "source": [
        "for i, col_name in enumerate(X_train.columns):\n",
        "    print(f\"Regression model coefficient for {col_name} =>\\t\\t\\t{model.coef_[0][i]}\")\n",
        "\n",
        "print(f\"intercept => {model.intercept_[0]}\")"
      ],
      "metadata": {
        "id": "pgG6PKAImvwQ",
        "colab": {
          "base_uri": "https://localhost:8080/"
        },
        "outputId": "b82f844f-7045-4b53-bcdf-45ba3ac2af96"
      },
      "execution_count": null,
      "outputs": [
        {
          "output_type": "stream",
          "name": "stdout",
          "text": [
            "Regression model coefficient for cylinders =>\t\t\t-0.27839835574965366\n",
            "Regression model coefficient for displacement =>\t\t\t0.017945885956041005\n",
            "Regression model coefficient for horsepower =>\t\t\t-0.015941309405825124\n",
            "Regression model coefficient for weight =>\t\t\t-0.006708749803368989\n",
            "Regression model coefficient for acceleration =>\t\t\t0.10799192624266944\n",
            "Regression model coefficient for model year =>\t\t\t0.7936838683224272\n",
            "Regression model coefficient for origin =>\t\t\t1.3343753006382393\n",
            "intercept => -20.963138663631067\n"
          ]
        }
      ]
    },
    {
      "cell_type": "code",
      "source": [
        "print(model.score(X_train, y_train))\n",
        "print(model.score(X_test, y_test))"
      ],
      "metadata": {
        "id": "PrLKUZlurKEH",
        "colab": {
          "base_uri": "https://localhost:8080/"
        },
        "outputId": "d5deed34-60a4-42a7-9ff9-57d4bb8a7955"
      },
      "execution_count": null,
      "outputs": [
        {
          "output_type": "stream",
          "name": "stdout",
          "text": [
            "0.8102080061039307\n",
            "0.8641192964254736\n"
          ]
        }
      ]
    },
    {
      "cell_type": "code",
      "source": [
        "ridge = Ridge(alpha=0.2)\n",
        "ridge.fit(X_train,y_train)"
      ],
      "metadata": {
        "id": "soLHT44vqelW",
        "colab": {
          "base_uri": "https://localhost:8080/",
          "height": 74
        },
        "outputId": "4c2387ba-385a-4005-e4b1-ed5c49bdd8d0"
      },
      "execution_count": null,
      "outputs": [
        {
          "output_type": "execute_result",
          "data": {
            "text/plain": [
              "Ridge(alpha=0.2)"
            ],
            "text/html": [
              "<style>#sk-container-id-10 {color: black;background-color: white;}#sk-container-id-10 pre{padding: 0;}#sk-container-id-10 div.sk-toggleable {background-color: white;}#sk-container-id-10 label.sk-toggleable__label {cursor: pointer;display: block;width: 100%;margin-bottom: 0;padding: 0.3em;box-sizing: border-box;text-align: center;}#sk-container-id-10 label.sk-toggleable__label-arrow:before {content: \"▸\";float: left;margin-right: 0.25em;color: #696969;}#sk-container-id-10 label.sk-toggleable__label-arrow:hover:before {color: black;}#sk-container-id-10 div.sk-estimator:hover label.sk-toggleable__label-arrow:before {color: black;}#sk-container-id-10 div.sk-toggleable__content {max-height: 0;max-width: 0;overflow: hidden;text-align: left;background-color: #f0f8ff;}#sk-container-id-10 div.sk-toggleable__content pre {margin: 0.2em;color: black;border-radius: 0.25em;background-color: #f0f8ff;}#sk-container-id-10 input.sk-toggleable__control:checked~div.sk-toggleable__content {max-height: 200px;max-width: 100%;overflow: auto;}#sk-container-id-10 input.sk-toggleable__control:checked~label.sk-toggleable__label-arrow:before {content: \"▾\";}#sk-container-id-10 div.sk-estimator input.sk-toggleable__control:checked~label.sk-toggleable__label {background-color: #d4ebff;}#sk-container-id-10 div.sk-label input.sk-toggleable__control:checked~label.sk-toggleable__label {background-color: #d4ebff;}#sk-container-id-10 input.sk-hidden--visually {border: 0;clip: rect(1px 1px 1px 1px);clip: rect(1px, 1px, 1px, 1px);height: 1px;margin: -1px;overflow: hidden;padding: 0;position: absolute;width: 1px;}#sk-container-id-10 div.sk-estimator {font-family: monospace;background-color: #f0f8ff;border: 1px dotted black;border-radius: 0.25em;box-sizing: border-box;margin-bottom: 0.5em;}#sk-container-id-10 div.sk-estimator:hover {background-color: #d4ebff;}#sk-container-id-10 div.sk-parallel-item::after {content: \"\";width: 100%;border-bottom: 1px solid gray;flex-grow: 1;}#sk-container-id-10 div.sk-label:hover label.sk-toggleable__label {background-color: #d4ebff;}#sk-container-id-10 div.sk-serial::before {content: \"\";position: absolute;border-left: 1px solid gray;box-sizing: border-box;top: 0;bottom: 0;left: 50%;z-index: 0;}#sk-container-id-10 div.sk-serial {display: flex;flex-direction: column;align-items: center;background-color: white;padding-right: 0.2em;padding-left: 0.2em;position: relative;}#sk-container-id-10 div.sk-item {position: relative;z-index: 1;}#sk-container-id-10 div.sk-parallel {display: flex;align-items: stretch;justify-content: center;background-color: white;position: relative;}#sk-container-id-10 div.sk-item::before, #sk-container-id-10 div.sk-parallel-item::before {content: \"\";position: absolute;border-left: 1px solid gray;box-sizing: border-box;top: 0;bottom: 0;left: 50%;z-index: -1;}#sk-container-id-10 div.sk-parallel-item {display: flex;flex-direction: column;z-index: 1;position: relative;background-color: white;}#sk-container-id-10 div.sk-parallel-item:first-child::after {align-self: flex-end;width: 50%;}#sk-container-id-10 div.sk-parallel-item:last-child::after {align-self: flex-start;width: 50%;}#sk-container-id-10 div.sk-parallel-item:only-child::after {width: 0;}#sk-container-id-10 div.sk-dashed-wrapped {border: 1px dashed gray;margin: 0 0.4em 0.5em 0.4em;box-sizing: border-box;padding-bottom: 0.4em;background-color: white;}#sk-container-id-10 div.sk-label label {font-family: monospace;font-weight: bold;display: inline-block;line-height: 1.2em;}#sk-container-id-10 div.sk-label-container {text-align: center;}#sk-container-id-10 div.sk-container {/* jupyter's `normalize.less` sets `[hidden] { display: none; }` but bootstrap.min.css set `[hidden] { display: none !important; }` so we also need the `!important` here to be able to override the default hidden behavior on the sphinx rendered scikit-learn.org. See: https://github.com/scikit-learn/scikit-learn/issues/21755 */display: inline-block !important;position: relative;}#sk-container-id-10 div.sk-text-repr-fallback {display: none;}</style><div id=\"sk-container-id-10\" class=\"sk-top-container\"><div class=\"sk-text-repr-fallback\"><pre>Ridge(alpha=0.2)</pre><b>In a Jupyter environment, please rerun this cell to show the HTML representation or trust the notebook. <br />On GitHub, the HTML representation is unable to render, please try loading this page with nbviewer.org.</b></div><div class=\"sk-container\" hidden><div class=\"sk-item\"><div class=\"sk-estimator sk-toggleable\"><input class=\"sk-toggleable__control sk-hidden--visually\" id=\"sk-estimator-id-10\" type=\"checkbox\" checked><label for=\"sk-estimator-id-10\" class=\"sk-toggleable__label sk-toggleable__label-arrow\">Ridge</label><div class=\"sk-toggleable__content\"><pre>Ridge(alpha=0.2)</pre></div></div></div></div></div>"
            ]
          },
          "metadata": {},
          "execution_count": 287
        }
      ]
    },
    {
      "cell_type": "code",
      "source": [
        "ridge.coef_\n",
        "for i,col in enumerate(X_train.columns):\n",
        "    print (f\"Ridge model coefficients for {col} =>\\t\\t {ridge.coef_[0][i]}\")"
      ],
      "metadata": {
        "id": "aHKE2ByBHRMn",
        "colab": {
          "base_uri": "https://localhost:8080/"
        },
        "outputId": "23c41e5e-1de1-452b-a89a-f098f1e2910d"
      },
      "execution_count": null,
      "outputs": [
        {
          "output_type": "stream",
          "name": "stdout",
          "text": [
            "Ridge model coefficients for cylinders =>\t\t -0.27738245215348023\n",
            "Ridge model coefficients for displacement =>\t\t 0.01791295987228325\n",
            "Ridge model coefficients for horsepower =>\t\t -0.015921341983330867\n",
            "Ridge model coefficients for weight =>\t\t -0.006709063358038304\n",
            "Ridge model coefficients for acceleration =>\t\t 0.10792099178213559\n",
            "Ridge model coefficients for model year =>\t\t 0.7936495848410888\n",
            "Ridge model coefficients for origin =>\t\t 1.332005770919568\n"
          ]
        }
      ]
    },
    {
      "cell_type": "code",
      "source": [
        "lasso = Lasso(alpha=0.5)\n",
        "lasso.fit(X_train,y_train)\n"
      ],
      "metadata": {
        "id": "O3tF9WFMq_Gn",
        "colab": {
          "base_uri": "https://localhost:8080/",
          "height": 74
        },
        "outputId": "d6168c9b-728f-4204-c1f4-e35d3fbbf3b1"
      },
      "execution_count": null,
      "outputs": [
        {
          "output_type": "execute_result",
          "data": {
            "text/plain": [
              "Lasso(alpha=0.5)"
            ],
            "text/html": [
              "<style>#sk-container-id-13 {color: black;background-color: white;}#sk-container-id-13 pre{padding: 0;}#sk-container-id-13 div.sk-toggleable {background-color: white;}#sk-container-id-13 label.sk-toggleable__label {cursor: pointer;display: block;width: 100%;margin-bottom: 0;padding: 0.3em;box-sizing: border-box;text-align: center;}#sk-container-id-13 label.sk-toggleable__label-arrow:before {content: \"▸\";float: left;margin-right: 0.25em;color: #696969;}#sk-container-id-13 label.sk-toggleable__label-arrow:hover:before {color: black;}#sk-container-id-13 div.sk-estimator:hover label.sk-toggleable__label-arrow:before {color: black;}#sk-container-id-13 div.sk-toggleable__content {max-height: 0;max-width: 0;overflow: hidden;text-align: left;background-color: #f0f8ff;}#sk-container-id-13 div.sk-toggleable__content pre {margin: 0.2em;color: black;border-radius: 0.25em;background-color: #f0f8ff;}#sk-container-id-13 input.sk-toggleable__control:checked~div.sk-toggleable__content {max-height: 200px;max-width: 100%;overflow: auto;}#sk-container-id-13 input.sk-toggleable__control:checked~label.sk-toggleable__label-arrow:before {content: \"▾\";}#sk-container-id-13 div.sk-estimator input.sk-toggleable__control:checked~label.sk-toggleable__label {background-color: #d4ebff;}#sk-container-id-13 div.sk-label input.sk-toggleable__control:checked~label.sk-toggleable__label {background-color: #d4ebff;}#sk-container-id-13 input.sk-hidden--visually {border: 0;clip: rect(1px 1px 1px 1px);clip: rect(1px, 1px, 1px, 1px);height: 1px;margin: -1px;overflow: hidden;padding: 0;position: absolute;width: 1px;}#sk-container-id-13 div.sk-estimator {font-family: monospace;background-color: #f0f8ff;border: 1px dotted black;border-radius: 0.25em;box-sizing: border-box;margin-bottom: 0.5em;}#sk-container-id-13 div.sk-estimator:hover {background-color: #d4ebff;}#sk-container-id-13 div.sk-parallel-item::after {content: \"\";width: 100%;border-bottom: 1px solid gray;flex-grow: 1;}#sk-container-id-13 div.sk-label:hover label.sk-toggleable__label {background-color: #d4ebff;}#sk-container-id-13 div.sk-serial::before {content: \"\";position: absolute;border-left: 1px solid gray;box-sizing: border-box;top: 0;bottom: 0;left: 50%;z-index: 0;}#sk-container-id-13 div.sk-serial {display: flex;flex-direction: column;align-items: center;background-color: white;padding-right: 0.2em;padding-left: 0.2em;position: relative;}#sk-container-id-13 div.sk-item {position: relative;z-index: 1;}#sk-container-id-13 div.sk-parallel {display: flex;align-items: stretch;justify-content: center;background-color: white;position: relative;}#sk-container-id-13 div.sk-item::before, #sk-container-id-13 div.sk-parallel-item::before {content: \"\";position: absolute;border-left: 1px solid gray;box-sizing: border-box;top: 0;bottom: 0;left: 50%;z-index: -1;}#sk-container-id-13 div.sk-parallel-item {display: flex;flex-direction: column;z-index: 1;position: relative;background-color: white;}#sk-container-id-13 div.sk-parallel-item:first-child::after {align-self: flex-end;width: 50%;}#sk-container-id-13 div.sk-parallel-item:last-child::after {align-self: flex-start;width: 50%;}#sk-container-id-13 div.sk-parallel-item:only-child::after {width: 0;}#sk-container-id-13 div.sk-dashed-wrapped {border: 1px dashed gray;margin: 0 0.4em 0.5em 0.4em;box-sizing: border-box;padding-bottom: 0.4em;background-color: white;}#sk-container-id-13 div.sk-label label {font-family: monospace;font-weight: bold;display: inline-block;line-height: 1.2em;}#sk-container-id-13 div.sk-label-container {text-align: center;}#sk-container-id-13 div.sk-container {/* jupyter's `normalize.less` sets `[hidden] { display: none; }` but bootstrap.min.css set `[hidden] { display: none !important; }` so we also need the `!important` here to be able to override the default hidden behavior on the sphinx rendered scikit-learn.org. See: https://github.com/scikit-learn/scikit-learn/issues/21755 */display: inline-block !important;position: relative;}#sk-container-id-13 div.sk-text-repr-fallback {display: none;}</style><div id=\"sk-container-id-13\" class=\"sk-top-container\"><div class=\"sk-text-repr-fallback\"><pre>Lasso(alpha=0.5)</pre><b>In a Jupyter environment, please rerun this cell to show the HTML representation or trust the notebook. <br />On GitHub, the HTML representation is unable to render, please try loading this page with nbviewer.org.</b></div><div class=\"sk-container\" hidden><div class=\"sk-item\"><div class=\"sk-estimator sk-toggleable\"><input class=\"sk-toggleable__control sk-hidden--visually\" id=\"sk-estimator-id-13\" type=\"checkbox\" checked><label for=\"sk-estimator-id-13\" class=\"sk-toggleable__label sk-toggleable__label-arrow\">Lasso</label><div class=\"sk-toggleable__content\"><pre>Lasso(alpha=0.5)</pre></div></div></div></div></div>"
            ]
          },
          "metadata": {},
          "execution_count": 293
        }
      ]
    },
    {
      "cell_type": "code",
      "source": [
        "lasso.coef_\n",
        "for i,col in enumerate(X_train.columns):\n",
        "    print (f\"Lasso model coefficients for {col} =>\\t\\t {lasso.coef_[i]}\")"
      ],
      "metadata": {
        "id": "pdjURYgpHWI3"
      },
      "execution_count": null,
      "outputs": []
    },
    {
      "cell_type": "code",
      "source": [
        "print(ridge.score(X_train, y_train))\n",
        "print(ridge.score(X_test, y_test))"
      ],
      "metadata": {
        "id": "T6njdFOKrOlM",
        "colab": {
          "base_uri": "https://localhost:8080/"
        },
        "outputId": "fd07d292-68b4-437d-a289-1547b7dda394"
      },
      "execution_count": null,
      "outputs": [
        {
          "output_type": "stream",
          "name": "stdout",
          "text": [
            "0.8102079709043211\n",
            "0.8641032432221173\n"
          ]
        }
      ]
    },
    {
      "cell_type": "code",
      "source": [
        "print(lasso.score(X_train, y_train))\n",
        "print(lasso.score(X_test, y_test))"
      ],
      "metadata": {
        "id": "J8v46Te1rVWM",
        "colab": {
          "base_uri": "https://localhost:8080/"
        },
        "outputId": "45c1199c-6436-417f-c2fe-2020516c115c"
      },
      "execution_count": null,
      "outputs": [
        {
          "output_type": "stream",
          "name": "stdout",
          "text": [
            "0.7990205472990484\n",
            "0.8457778392190498\n"
          ]
        }
      ]
    },
    {
      "cell_type": "code",
      "source": [
        "from sklearn.model_selection import cross_val_score\n",
        "from sklearn.linear_model import Ridge\n",
        "import numpy as np\n",
        "X = df.drop('mpg', axis=1)\n",
        "y = df[['mpg']]\n",
        "\n",
        "alphas = [round(num, 2) for num in np.arange(0.1, 1, 0.05)]\n",
        "for a in alphas:\n",
        "    lasso = Lasso(alpha=a)\n",
        "    lasso.fit(X_train,y_train)\n",
        "    print(lasso.score(X_train, y_train))\n",
        "    print(lasso.score(X_test, y_test))\n",
        "    print(\"------------------\")\n"
      ],
      "metadata": {
        "id": "MW2jCXe6Fi1w",
        "colab": {
          "base_uri": "https://localhost:8080/"
        },
        "outputId": "65fb18ca-dada-4783-f501-f57fec9b1844"
      },
      "execution_count": null,
      "outputs": [
        {
          "output_type": "stream",
          "name": "stdout",
          "text": [
            "0.8093625228398579\n",
            "0.8602489000629899\n",
            "------------------\n",
            "0.8087050701175166\n",
            "0.8591231755577021\n",
            "------------------\n",
            "0.8077846671661588\n",
            "0.8576822416694705\n",
            "------------------\n",
            "0.8066013129215989\n",
            "0.855925954808505\n",
            "------------------\n",
            "0.8051549123930659\n",
            "0.8538544980289264\n",
            "------------------\n",
            "0.8036436847475892\n",
            "0.8517245565270893\n",
            "------------------\n",
            "0.801915800119057\n",
            "0.8493614526223694\n",
            "------------------\n",
            "0.7999575503790766\n",
            "0.8467482252419274\n",
            "------------------\n",
            "0.7990205472990484\n",
            "0.8457778392190498\n",
            "------------------\n",
            "0.7989424580228661\n",
            "0.8461261254188808\n",
            "------------------\n",
            "0.7988570455154049\n",
            "0.8464662252894531\n",
            "------------------\n",
            "0.7987640823984185\n",
            "0.8467971088512196\n",
            "------------------\n",
            "0.798663680642399\n",
            "0.8471193121051721\n",
            "------------------\n",
            "0.7985560106587499\n",
            "0.847433507475465\n",
            "------------------\n",
            "0.7984407402426437\n",
            "0.847738314974301\n",
            "------------------\n",
            "0.7983180292256133\n",
            "0.848034396931177\n",
            "------------------\n",
            "0.7981878811500985\n",
            "0.8483217815635349\n",
            "------------------\n",
            "0.7980502939416304\n",
            "0.8486004551665924\n",
            "------------------\n"
          ]
        }
      ]
    }
  ]
}