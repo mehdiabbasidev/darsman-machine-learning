{
  "nbformat": 4,
  "nbformat_minor": 0,
  "metadata": {
    "colab": {
      "provenance": [],
      "collapsed_sections": [
        "lJ1fmbD1S8ql",
        "iumskE7_Xdj9"
      ],
      "authorship_tag": "ABX9TyPnVu2c3yPlBdA8GrgVqhrm",
      "include_colab_link": true
    },
    "kernelspec": {
      "name": "python3",
      "display_name": "Python 3"
    },
    "language_info": {
      "name": "python"
    }
  },
  "cells": [
    {
      "cell_type": "markdown",
      "metadata": {
        "id": "view-in-github",
        "colab_type": "text"
      },
      "source": [
        "<a href=\"https://colab.research.google.com/github/mehdiabbasidev/darsman-machine-learning/blob/main/WrapperMethods_FeatureSelection.ipynb\" target=\"_parent\"><img src=\"https://colab.research.google.com/assets/colab-badge.svg\" alt=\"Open In Colab\"/></a>"
      ]
    },
    {
      "cell_type": "markdown",
      "source": [
        "### Dataset download link :\n",
        "https://drive.google.com/file/d/1cbqKrMUQxbJ3McHGely29H6rPOBu41Xa/view?usp=sharing"
      ],
      "metadata": {
        "id": "fUtYPD9ZoATG"
      }
    },
    {
      "cell_type": "code",
      "source": [
        "from google.colab import drive\n",
        "drive.mount('/content/drive/')"
      ],
      "metadata": {
        "id": "rgnIv2rPZowX"
      },
      "execution_count": null,
      "outputs": []
    },
    {
      "cell_type": "markdown",
      "source": [
        "### Step Forward and Backward Feature Selection"
      ],
      "metadata": {
        "id": "lJ1fmbD1S8ql"
      }
    },
    {
      "cell_type": "code",
      "source": [
        "import pandas as pd\n",
        "import numpy as np\n",
        "import matplotlib.pyplot as plt\n",
        "import seaborn as sns\n",
        "from sklearn.model_selection import train_test_split\n",
        "from sklearn.ensemble import RandomForestClassifier\n",
        "from sklearn.metrics import roc_auc_score\n",
        "from mlxtend.feature_selection import SequentialFeatureSelector as SFS\n",
        "%matplotlib inline"
      ],
      "metadata": {
        "id": "_1SEsxghJrY9"
      },
      "execution_count": null,
      "outputs": []
    },
    {
      "cell_type": "code",
      "source": [
        "import warnings\n",
        "warnings.filterwarnings('ignore')"
      ],
      "metadata": {
        "id": "YKKdlXnDSzwJ"
      },
      "execution_count": null,
      "outputs": []
    },
    {
      "cell_type": "code",
      "source": [
        "data = pd.read_csv('/content/drive/MyDrive/datasets/paribas.csv', nrows=2000)\n",
        "data.head()"
      ],
      "metadata": {
        "id": "ogEojroFJwzg"
      },
      "execution_count": null,
      "outputs": []
    },
    {
      "cell_type": "code",
      "source": [
        "data.shape"
      ],
      "metadata": {
        "id": "r27cmFHiJrBr"
      },
      "execution_count": null,
      "outputs": []
    },
    {
      "cell_type": "code",
      "source": [
        "numerics = ['int16', 'int32', 'int64', 'float16', 'float32', 'float64']\n",
        "numerical_vars = list(data.select_dtypes(include=numerics).columns)\n",
        "data = data[numerical_vars]\n",
        "data.shape"
      ],
      "metadata": {
        "id": "fvf2xf_nKBEY"
      },
      "execution_count": null,
      "outputs": []
    },
    {
      "cell_type": "code",
      "source": [
        "X=data.drop(labels=['target', 'ID'], axis=1)\n",
        "y=data['target']\n",
        "X_train, X_test, y_train, y_test = train_test_split(X,y,test_size=0.3,random_state=0)\n",
        "X_train.shape, X_test.shape"
      ],
      "metadata": {
        "id": "PWN7l5klKH_s"
      },
      "execution_count": null,
      "outputs": []
    },
    {
      "cell_type": "code",
      "source": [
        "def correlation(dataset, threshold):\n",
        "  corr_matrix = dataset.corr().abs()\n",
        "  upper = corr_matrix.where(np.triu(np.ones(corr_matrix.shape), k=1).astype(bool))\n",
        "  corr_columns = [column for column in upper.columns if any(upper[column] > threshold)]\n",
        "  return corr_columns\n",
        "\n",
        "corr_features = correlation(X_train, 0.7)\n",
        "print(f\"corr_features : {corr_features}\")\n",
        "print(f\"corr_features len : {len(corr_features)} \")"
      ],
      "metadata": {
        "id": "PL57RNQoKVdR"
      },
      "execution_count": null,
      "outputs": []
    },
    {
      "cell_type": "code",
      "source": [
        "X_train=X_train.drop(labels=corr_features, axis=1)\n",
        "X_test=X_test.drop(labels=corr_features, axis=1)\n",
        "X_train.shape, X_test.shape"
      ],
      "metadata": {
        "id": "k80UqBfAMiSx"
      },
      "execution_count": null,
      "outputs": []
    },
    {
      "cell_type": "code",
      "source": [
        "rfc=RandomForestClassifier()\n",
        "sfs1 = SFS(rfc,k_features=2,forward=True, verbose=2, scoring='roc_auc')\n",
        "sfs1 = sfs1.fit(np.array(X_train.fillna(0)), y_train)"
      ],
      "metadata": {
        "id": "4UoMyw1UMtpx"
      },
      "execution_count": null,
      "outputs": []
    },
    {
      "cell_type": "code",
      "source": [
        "selected_features= X_train.columns[list(sfs1.k_feature_idx_)]\n",
        "selected_features"
      ],
      "metadata": {
        "id": "9RA-o2Q-M8td"
      },
      "execution_count": null,
      "outputs": []
    },
    {
      "cell_type": "markdown",
      "source": [
        "### Recursive Feature Elimination (RFE)"
      ],
      "metadata": {
        "id": "iumskE7_Xdj9"
      }
    },
    {
      "cell_type": "code",
      "source": [
        "import pandas as pd\n",
        "import numpy as np\n",
        "from sklearn.datasets import load_iris\n",
        "from sklearn.linear_model import LogisticRegression\n",
        "from sklearn.feature_selection import RFE"
      ],
      "metadata": {
        "id": "D2S91qDyBTTR"
      },
      "execution_count": null,
      "outputs": []
    },
    {
      "cell_type": "code",
      "source": [
        "iris = load_iris()\n",
        "df = pd.DataFrame(data=iris.data, columns=iris.feature_names)\n",
        "df['target'] = iris.target"
      ],
      "metadata": {
        "id": "LPfYvYkQBU9A"
      },
      "execution_count": null,
      "outputs": []
    },
    {
      "cell_type": "code",
      "source": [
        "X = df.drop(['target'],axis=1)\n",
        "y = df['target']"
      ],
      "metadata": {
        "id": "x80AO5GuBVyA"
      },
      "execution_count": null,
      "outputs": []
    },
    {
      "cell_type": "code",
      "source": [
        "lr = LogisticRegression(max_iter=1000)\n",
        "selector = RFE(lr, n_features_to_select=3, step=1)\n",
        "selector.fit(X, y)"
      ],
      "metadata": {
        "id": "23_NRK70BX9J"
      },
      "execution_count": null,
      "outputs": []
    },
    {
      "cell_type": "code",
      "source": [
        "print(selector.support_)\n",
        "print(selector.ranking_)\n",
        "selected_features = X.columns[selector.support_]\n",
        "print(\"Selected features:\", selected_features)"
      ],
      "metadata": {
        "id": "wHOz4dEmYs4j"
      },
      "execution_count": null,
      "outputs": []
    }
  ]
}