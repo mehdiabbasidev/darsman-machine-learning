{
  "nbformat": 4,
  "nbformat_minor": 0,
  "metadata": {
    "colab": {
      "provenance": [],
      "collapsed_sections": [
        "QVZsBTvKDSQb",
        "Wm_2N6vVENxB"
      ],
      "authorship_tag": "ABX9TyNKJ1+2pfWVlIetqXO5jVfa",
      "include_colab_link": true
    },
    "kernelspec": {
      "name": "python3",
      "display_name": "Python 3"
    },
    "language_info": {
      "name": "python"
    }
  },
  "cells": [
    {
      "cell_type": "markdown",
      "metadata": {
        "id": "view-in-github",
        "colab_type": "text"
      },
      "source": [
        "<a href=\"https://colab.research.google.com/github/mehdiabbasidev/darsman-machine-learning/blob/main/DecisionTree.ipynb\" target=\"_parent\"><img src=\"https://colab.research.google.com/assets/colab-badge.svg\" alt=\"Open In Colab\"/></a>"
      ]
    },
    {
      "cell_type": "markdown",
      "source": [
        "# Dataset download link:\n",
        "https://drive.google.com/file/d/115328Fks1LZS0JDxr4-d2hPOWyXwjwJS/view?usp=sharing"
      ],
      "metadata": {
        "id": "u_p5Zs-eGd4q"
      }
    },
    {
      "cell_type": "code",
      "source": [
        "from google.colab import drive\n",
        "drive.mount('/content/drive/')"
      ],
      "metadata": {
        "id": "7lkNicR8cw0Y"
      },
      "execution_count": null,
      "outputs": []
    },
    {
      "cell_type": "markdown",
      "source": [
        "# Decision Tree Regressor"
      ],
      "metadata": {
        "id": "QVZsBTvKDSQb"
      }
    },
    {
      "cell_type": "code",
      "source": [
        "import numpy as np\n",
        "import pandas as pd\n",
        "from sklearn.model_selection import train_test_split\n",
        "from sklearn.tree import DecisionTreeRegressor\n",
        "from sklearn.metrics import mean_squared_error, r2_score\n",
        "import matplotlib.pyplot as plt\n",
        "import seaborn as sns\n",
        "%matplotlib inline"
      ],
      "metadata": {
        "id": "l-Bjs0JtcpIm"
      },
      "execution_count": null,
      "outputs": []
    },
    {
      "cell_type": "code",
      "source": [
        "df = pd.read_csv('/content/drive/MyDrive/datasets/Position_Salaries.csv')\n",
        "df"
      ],
      "metadata": {
        "id": "gg-xkYRMcpFu"
      },
      "execution_count": null,
      "outputs": []
    },
    {
      "cell_type": "code",
      "source": [
        "df.shape\n",
        "df.columns"
      ],
      "metadata": {
        "id": "rSxEK0x8LKyW"
      },
      "execution_count": null,
      "outputs": []
    },
    {
      "cell_type": "code",
      "source": [
        "X = df.iloc[:,1:2].values\n",
        "y = df.iloc[:,2].values\n",
        "X , y"
      ],
      "metadata": {
        "id": "SZ8dlQmDcpCt"
      },
      "execution_count": null,
      "outputs": []
    },
    {
      "cell_type": "code",
      "source": [
        "X_train, X_test, y_train, y_test = train_test_split(X, y, test_size = 0.45, random_state = 0)"
      ],
      "metadata": {
        "id": "KSQaaNtZco_5"
      },
      "execution_count": null,
      "outputs": []
    },
    {
      "cell_type": "code",
      "source": [
        "dtr_model = DecisionTreeRegressor(random_state = 0)\n",
        "dtr_model.fit(X, y)"
      ],
      "metadata": {
        "id": "naErJPIUdERR"
      },
      "execution_count": null,
      "outputs": []
    },
    {
      "cell_type": "code",
      "source": [
        "y_pred=dtr_model.predict(X_test)"
      ],
      "metadata": {
        "id": "45BwkPswdy5Q"
      },
      "execution_count": null,
      "outputs": []
    },
    {
      "cell_type": "code",
      "source": [
        "from sklearn.metrics import mean_squared_error, r2_score\n",
        "mse = mean_squared_error(y_test, y_pred)\n",
        "print(\"Mean Squared Error:\", mse)\n",
        "\n",
        "r2_score = r2_score(y_test, y_pred)\n",
        "print(\"R2_score:\", r2_score)"
      ],
      "metadata": {
        "id": "kR3pClf3d9KL"
      },
      "execution_count": null,
      "outputs": []
    },
    {
      "cell_type": "code",
      "source": [
        "y_pred=dtr_model.predict([[3.7]])\n",
        "y_pred"
      ],
      "metadata": {
        "id": "QpR2KzpxdEOp"
      },
      "execution_count": null,
      "outputs": []
    },
    {
      "cell_type": "code",
      "source": [
        "X_grid = np.arange(min(X), max(X), 0.01)\n",
        "X_grid2 = X_grid.reshape((len(X_grid), 1))\n",
        "y_grid2_pred=dtr_model.predict(X_grid2)\n",
        "plt.scatter(X, y, color = 'red')\n",
        "plt.plot(X_grid2, y_grid2_pred, color = 'blue')\n",
        "plt.title('Decision Tree Regression')\n",
        "plt.xlabel('Position level')\n",
        "plt.ylabel('Salary')\n",
        "plt.show()"
      ],
      "metadata": {
        "id": "pB5dGDuLdELu"
      },
      "execution_count": null,
      "outputs": []
    },
    {
      "cell_type": "markdown",
      "source": [
        "# Decision Tree Classifier"
      ],
      "metadata": {
        "id": "MXWWJCtsDOVG"
      }
    },
    {
      "cell_type": "code",
      "source": [
        "from sklearn.datasets import load_iris\n",
        "from sklearn.model_selection import train_test_split\n",
        "from sklearn.tree import DecisionTreeClassifier\n",
        "from sklearn.metrics import confusion_matrix, accuracy_score , recall_score , precision_score\n",
        "\n",
        "iris = load_iris()\n",
        "X = iris.data\n",
        "y = iris.target\n",
        "\n",
        "X_train, X_test, y_train, y_test = train_test_split(X, y, test_size=0.35, random_state=42)\n",
        "\n",
        "dtc_model = DecisionTreeClassifier()\n",
        "dtc_model.fit(X_train, y_train)\n",
        "\n",
        "y_pred =dtc_model.predict(X_test)\n",
        "\n",
        "print(\"confusion_matrix:\\n\", confusion_matrix(y_test, y_pred))\n",
        "print(\"accuracy_score:\", accuracy_score(y_test, y_pred))\n",
        "print(\"recall_score:\", recall_score(y_test, y_pred,average='micro'))\n",
        "print(\"precision_score:\", precision_score(y_test, y_pred,average='micro'))"
      ],
      "metadata": {
        "id": "4gFi1PxmDPc6"
      },
      "execution_count": null,
      "outputs": []
    },
    {
      "cell_type": "markdown",
      "source": [
        "# Decision Tree Classifier - Criterion"
      ],
      "metadata": {
        "id": "Wm_2N6vVENxB"
      }
    },
    {
      "cell_type": "code",
      "source": [
        "from sklearn.tree import DecisionTreeClassifier\n",
        "from sklearn.datasets import make_classification\n",
        "from sklearn.model_selection import train_test_split\n",
        "from sklearn.metrics import accuracy_score\n",
        "\n",
        "X, y = make_classification(n_samples=1000, n_features=5)\n",
        "\n",
        "X_train, X_test, y_train, y_test = train_test_split(X, y, test_size=0.4, random_state=42)\n",
        "\n",
        "tree_gain = DecisionTreeClassifier(criterion='entropy')\n",
        "tree_gain.fit(X_train, y_train)\n",
        "\n",
        "y_pred=tree_gain.predict(X_test)\n",
        "accuracy_score=accuracy_score(y_test,y_pred)\n",
        "print(\"Accuracy Score:\", accuracy_score)\n",
        "\n",
        "tree_gini = DecisionTreeClassifier(criterion='gini')\n",
        "tree_gini.fit(X_train, y_train)\n",
        "\n",
        "accuracy_gain = tree_gain.score(X_test, y_test)\n",
        "print(\"Accuracy using Gain:\", accuracy_gain)\n",
        "\n"
      ],
      "metadata": {
        "id": "oMTjL4w5EPTg"
      },
      "execution_count": null,
      "outputs": []
    },
    {
      "cell_type": "markdown",
      "source": [
        "# Pruning"
      ],
      "metadata": {
        "id": "CCgWf_ZCLpuq"
      }
    },
    {
      "cell_type": "code",
      "source": [
        "from sklearn.datasets import load_iris\n",
        "from sklearn.tree import DecisionTreeClassifier\n",
        "from sklearn.model_selection import train_test_split\n",
        "from sklearn.metrics import accuracy_score\n",
        "from sklearn.tree import DecisionTreeClassifier\n",
        "from sklearn.model_selection import train_test_split\n",
        "from sklearn.metrics import accuracy_score\n",
        "\n",
        "iris = load_iris()\n",
        "X = iris.data\n",
        "y = iris.target\n",
        "\n",
        "X_train, X_test, y_train, y_test = train_test_split(X, y, test_size=0.5, random_state=42)\n",
        "clf = DecisionTreeClassifier()\n",
        "clf.fit(X_train, y_train)\n",
        "\n",
        "y_pred = clf.predict(X_test)\n",
        "accuracy = accuracy_score(y_test, y_pred)\n",
        "print(\"Accuracy before pruning:\", accuracy)\n",
        "\n",
        "path = clf.cost_complexity_pruning_path(X_train, y_train)\n",
        "ccp_alphas, impurities = path.ccp_alphas, path.impurities\n",
        "\n",
        "clfs = []\n",
        "for ccp_alpha in ccp_alphas:\n",
        "    clf_temp = DecisionTreeClassifier(random_state=0, ccp_alpha=ccp_alpha)\n",
        "    clf_temp.fit(X_train, y_train)\n",
        "    clfs.append(clf_temp)\n",
        "\n",
        "clfs = clfs[:-1]\n",
        "\n",
        "max_accuracy = -1\n",
        "best_clf = None\n",
        "for clf in clfs:\n",
        "    y_pred = clf.predict(X_test)\n",
        "    accuracy = accuracy_score(y_test, y_pred)\n",
        "    print(\"\\t\\t*accuracy \", accuracy)\n",
        "    if accuracy > max_accuracy:\n",
        "        max_accuracy = accuracy\n",
        "        best_clf = clf\n",
        "\n",
        "print(\"Accuracy after pruning:\", max_accuracy)"
      ],
      "metadata": {
        "id": "SsGvEvV9LoTl"
      },
      "execution_count": null,
      "outputs": []
    }
  ]
}