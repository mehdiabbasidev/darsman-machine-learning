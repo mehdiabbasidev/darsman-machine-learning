{
  "nbformat": 4,
  "nbformat_minor": 0,
  "metadata": {
    "colab": {
      "provenance": [],
      "authorship_tag": "ABX9TyNmXTRUlhvb7KPHLccz0aDR",
      "include_colab_link": true
    },
    "kernelspec": {
      "name": "python3",
      "display_name": "Python 3"
    },
    "language_info": {
      "name": "python"
    }
  },
  "cells": [
    {
      "cell_type": "markdown",
      "metadata": {
        "id": "view-in-github",
        "colab_type": "text"
      },
      "source": [
        "<a href=\"https://colab.research.google.com/github/mehdiabbasidev/darsman-machine-learning/blob/main/ClassificationEvaluationMetrics.ipynb\" target=\"_parent\"><img src=\"https://colab.research.google.com/assets/colab-badge.svg\" alt=\"Open In Colab\"/></a>"
      ]
    },
    {
      "cell_type": "code",
      "source": [
        "from google.colab import drive\n",
        "drive.mount('/content/drive/')"
      ],
      "metadata": {
        "id": "_zQprC7AoO1p"
      },
      "execution_count": null,
      "outputs": []
    },
    {
      "cell_type": "code",
      "source": [
        "import pandas as pd\n",
        "import numpy as np\n",
        "from sklearn.model_selection import train_test_split\n",
        "from sklearn.linear_model import LogisticRegression\n",
        "from sklearn.metrics import confusion_matrix,accuracy_score,recall_score,precision_score,f1_score,classification_report"
      ],
      "metadata": {
        "id": "r44W2_s1oShH"
      },
      "execution_count": null,
      "outputs": []
    },
    {
      "cell_type": "code",
      "source": [
        "df = pd.read_excel('/content/drive/MyDrive/datasets/diabetes.xlsx',index_col=False)\n",
        "df"
      ],
      "metadata": {
        "id": "1QZGXyem0fO5"
      },
      "execution_count": null,
      "outputs": []
    },
    {
      "cell_type": "code",
      "source": [
        "df = df[['Glucose', 'Outcome']].copy().rename(columns={'Outcome': 'Diabete'})\n",
        "df.shape"
      ],
      "metadata": {
        "id": "6y49YQWU5DNE"
      },
      "execution_count": null,
      "outputs": []
    },
    {
      "cell_type": "code",
      "source": [
        "df=df.sample(100)\n",
        "df.shape"
      ],
      "metadata": {
        "id": "2S4oV_-g8H-Q"
      },
      "execution_count": null,
      "outputs": []
    },
    {
      "cell_type": "code",
      "source": [
        "X = df[['Glucose']]\n",
        "y = df['Diabete']"
      ],
      "metadata": {
        "id": "Em24SF_V7SRZ"
      },
      "execution_count": null,
      "outputs": []
    },
    {
      "cell_type": "code",
      "source": [
        "X_train, X_test, y_train, y_test = train_test_split(X, y, test_size=0.3, random_state=42)\n",
        "X_train.shape, X_test.shape, y_train.shape, y_test.shape"
      ],
      "metadata": {
        "id": "HvVMofas7cuL"
      },
      "execution_count": null,
      "outputs": []
    },
    {
      "cell_type": "code",
      "source": [
        "lrModel=LogisticRegression()\n",
        "lrModel.fit(X_train,y_train)"
      ],
      "metadata": {
        "id": "YgXpRYQs7cnq"
      },
      "execution_count": null,
      "outputs": []
    },
    {
      "cell_type": "code",
      "source": [
        "y_pred=lrModel.predict(X_test)"
      ],
      "metadata": {
        "id": "w6G60Lyv7cfq"
      },
      "execution_count": null,
      "outputs": []
    },
    {
      "cell_type": "code",
      "source": [
        "data = {'y_Actual': y_test,\n",
        "        'y_Pred': y_pred\n",
        "        }\n",
        "data"
      ],
      "metadata": {
        "id": "2lR7AqI8kHT_"
      },
      "execution_count": null,
      "outputs": []
    },
    {
      "cell_type": "code",
      "source": [
        "df = pd.DataFrame(data, columns=['y_Actual','y_Pred'])\n",
        "df"
      ],
      "metadata": {
        "id": "KapDjE3qkz_C"
      },
      "execution_count": null,
      "outputs": []
    },
    {
      "cell_type": "code",
      "source": [
        "confusion_matrix(df[\"y_Actual\"], df[\"y_Pred\"])"
      ],
      "metadata": {
        "id": "JphXE_2nngxZ"
      },
      "execution_count": null,
      "outputs": []
    },
    {
      "cell_type": "code",
      "source": [
        "confusion_matrix = pd.crosstab( df['y_Actual'],df['y_Pred'], rownames=['Actual'], colnames=['Predicted'])\n",
        "confusion_matrix"
      ],
      "metadata": {
        "id": "iW8TlLbik9BW"
      },
      "execution_count": null,
      "outputs": []
    },
    {
      "cell_type": "code",
      "source": [
        "df.to_csv('data_res.csv', index=False)"
      ],
      "metadata": {
        "id": "9243s712ninP"
      },
      "execution_count": null,
      "outputs": []
    },
    {
      "cell_type": "code",
      "source": [
        "accuracy_score=accuracy_score(df[\"y_Actual\"], df[\"y_Pred\"])\n",
        "accuracy_score"
      ],
      "metadata": {
        "id": "rCm59jDQCEsF"
      },
      "execution_count": null,
      "outputs": []
    },
    {
      "cell_type": "code",
      "source": [
        "recall_score=recall_score(df[\"y_Actual\"], df[\"y_Pred\"])\n",
        "recall_score"
      ],
      "metadata": {
        "id": "jVQj4sEOCEpd"
      },
      "execution_count": null,
      "outputs": []
    },
    {
      "cell_type": "code",
      "source": [
        "precision_score=precision_score(df[\"y_Actual\"], df[\"y_Pred\"])\n",
        "precision_score"
      ],
      "metadata": {
        "id": "70K3iJO3CEmd"
      },
      "execution_count": null,
      "outputs": []
    },
    {
      "cell_type": "code",
      "source": [
        "f1_score=f1_score(df[\"y_Actual\"], df[\"y_Pred\"])\n",
        "f1_score"
      ],
      "metadata": {
        "id": "RwxD5ydjCEgM"
      },
      "execution_count": null,
      "outputs": []
    },
    {
      "cell_type": "code",
      "source": [
        "classification_report=classification_report(df[\"y_Actual\"], df[\"y_Pred\"])\n",
        "print(classification_report)"
      ],
      "metadata": {
        "id": "C59mbvuPqd1O"
      },
      "execution_count": null,
      "outputs": []
    }
  ]
}