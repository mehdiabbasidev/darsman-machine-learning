{
  "nbformat": 4,
  "nbformat_minor": 0,
  "metadata": {
    "colab": {
      "provenance": [],
      "collapsed_sections": [
        "z4DJ07IynGn3"
      ],
      "authorship_tag": "ABX9TyO8bxYijKrJtZesnlg5ybvI",
      "include_colab_link": true
    },
    "kernelspec": {
      "name": "python3",
      "display_name": "Python 3"
    },
    "language_info": {
      "name": "python"
    }
  },
  "cells": [
    {
      "cell_type": "markdown",
      "metadata": {
        "id": "view-in-github",
        "colab_type": "text"
      },
      "source": [
        "<a href=\"https://colab.research.google.com/github/mehdiabbasidev/darsman-machine-learning/blob/main/PolynomialRegressionHouseSalesUSAKingCounty.ipynb\" target=\"_parent\"><img src=\"https://colab.research.google.com/assets/colab-badge.svg\" alt=\"Open In Colab\"/></a>"
      ]
    },
    {
      "cell_type": "markdown",
      "source": [
        "## House Sales in King County, USA\n",
        "* id: شناسه\n",
        "* date: تاریخ فروش خانه\n",
        "* price: قیمت (که هدف پیش‌بینی است)\n",
        "* bedrooms: تعداد اتاق‌های خواب\n",
        "* bathrooms: تعداد حمام‌ها\n",
        "* sqft_living:  مساحت خانه\n",
        "* sqft_lot:  مساحت زمین\n",
        "* floors: تعداد طبقات\n",
        "* waterfront:  ساحل دریا\n",
        "* view: مشاهده شده است یا نه\n",
        "* condition: وضعیت کلی خانه\n",
        "* grade: امتیاز واحد مسکونی، براساس سیستم امتیازدهی  \n",
        "* sqft_above:  مساحت زیربنا\n",
        "* sqft_basement:  مساحت زیرزمین\n",
        "* yr_built: سال ساخت\n",
        "* yr_renovated: سالی بازسازی  \n",
        "* zipcode: کد پستی\n",
        "* lat: عرض جغرافیایی\n",
        "* long: طول جغرافیایی\n",
        "...\n",
        "\n"
      ],
      "metadata": {
        "id": "G8AkNJtwTIe7"
      }
    },
    {
      "cell_type": "code",
      "source": [
        "from google.colab import drive\n",
        "drive.mount('/content/drive')"
      ],
      "metadata": {
        "colab": {
          "base_uri": "https://localhost:8080/"
        },
        "id": "sR03Coq8-dHr",
        "outputId": "c617a7c6-5dc1-428e-c548-4298e8e24d63"
      },
      "execution_count": 1,
      "outputs": [
        {
          "output_type": "stream",
          "name": "stdout",
          "text": [
            "Mounted at /content/drive\n"
          ]
        }
      ]
    },
    {
      "cell_type": "code",
      "source": [
        "import pandas as pd\n",
        "import matplotlib.pyplot as plt\n",
        "import numpy as np\n",
        "import seaborn as sns\n",
        "from sklearn.pipeline import Pipeline\n",
        "from sklearn.model_selection import train_test_split\n",
        "from sklearn.metrics import mean_squared_error, r2_score\n",
        "from sklearn.preprocessing import StandardScaler,PolynomialFeatures\n",
        "from sklearn.linear_model import LinearRegression\n",
        "%matplotlib inline"
      ],
      "metadata": {
        "id": "bFJsuXaQVZhy"
      },
      "execution_count": 49,
      "outputs": []
    },
    {
      "cell_type": "code",
      "source": [
        "df = pd.read_csv('/content/drive/MyDrive/datasets/king_county_house_dataset.csv')\n",
        "df.head()"
      ],
      "metadata": {
        "id": "R4dIZtIjTKVy"
      },
      "execution_count": null,
      "outputs": []
    },
    {
      "cell_type": "code",
      "source": [
        "df.head()\n",
        "df.shape\n",
        "df.columns\n",
        "df.dtypes\n",
        "df.nunique()\n",
        "df.info()\n",
        "df.describe()\n",
        "df.isnull().sum()\n",
        "df.corr()\n",
        "df.value_counts().to_frame()\n",
        "df[\"floors\"].value_counts().to_frame()"
      ],
      "metadata": {
        "id": "oV9801_3TVJ_"
      },
      "execution_count": null,
      "outputs": []
    },
    {
      "cell_type": "code",
      "source": [
        "df.drop([\"id\", \"Unnamed: 0\"], axis=1, inplace = True)\n",
        "df.head()"
      ],
      "metadata": {
        "id": "dBow7aCOZqGB"
      },
      "execution_count": null,
      "outputs": []
    },
    {
      "cell_type": "code",
      "source": [
        "df.isnull().sum()"
      ],
      "metadata": {
        "id": "PAMzABA7Z8V6"
      },
      "execution_count": null,
      "outputs": []
    },
    {
      "cell_type": "code",
      "source": [
        "mean=df['bedrooms'].mean()\n",
        "df['bedrooms'] = df['bedrooms'].replace(np.nan,mean)\n",
        "\n",
        "mean=df['bathrooms'].mean()\n",
        "df['bathrooms'] = df['bathrooms'].replace(np.nan,mean)"
      ],
      "metadata": {
        "id": "bTSrOkEDahrJ"
      },
      "execution_count": 45,
      "outputs": []
    },
    {
      "cell_type": "code",
      "source": [
        "df.isnull().sum()"
      ],
      "metadata": {
        "id": "VS0mb0RCavNB"
      },
      "execution_count": null,
      "outputs": []
    },
    {
      "cell_type": "code",
      "source": [
        "sns.boxplot(x=\"waterfront\", y=\"price\", data=df)"
      ],
      "metadata": {
        "id": "KW2bOIGlbW6G"
      },
      "execution_count": null,
      "outputs": []
    },
    {
      "cell_type": "code",
      "source": [
        "sns.regplot(x=\"floors\", y=\"price\", data=df, line_kws={\"color\": \"red\"})"
      ],
      "metadata": {
        "id": "PSVTJvHjby0y"
      },
      "execution_count": null,
      "outputs": []
    },
    {
      "cell_type": "code",
      "source": [
        "sns.regplot(x=\"sqft_above\", y=\"price\", data=df, line_kws={\"color\": \"red\"})"
      ],
      "metadata": {
        "id": "khb7nJfNfvwu"
      },
      "execution_count": null,
      "outputs": []
    },
    {
      "cell_type": "code",
      "source": [
        "plt.figure(figsize=(15,15))\n",
        "sns.heatmap(df.corr(numeric_only=True), cbar=False, square= True, fmt='.2f', annot=True, annot_kws={'size':10}, cmap='Reds')"
      ],
      "metadata": {
        "id": "geMvMZPzcJRn"
      },
      "execution_count": null,
      "outputs": []
    },
    {
      "cell_type": "markdown",
      "source": [
        "### SLR"
      ],
      "metadata": {
        "id": "dAakALF9m2s-"
      }
    },
    {
      "cell_type": "code",
      "source": [
        "X = df[['sqft_living']]\n",
        "y = df['price']\n",
        "X_train, X_test, y_train, y_test = train_test_split(X, y, test_size=0.15, random_state=42)\n",
        "\n",
        "model = LinearRegression()\n",
        "model.fit(X_train, y_train)\n",
        "\n",
        "y_pred = model.predict(X_test)\n",
        "r2 = r2_score(y_test, y_pred)\n",
        "print(f\"R-squared : {r2}\")"
      ],
      "metadata": {
        "colab": {
          "base_uri": "https://localhost:8080/"
        },
        "id": "Kbo6IZ4co1XQ",
        "outputId": "56fb7e86-89d6-4930-88e1-5ddd3caf13f1"
      },
      "execution_count": 51,
      "outputs": [
        {
          "output_type": "stream",
          "name": "stdout",
          "text": [
            "R-squared : 0.49016883616018136\n"
          ]
        }
      ]
    },
    {
      "cell_type": "code",
      "source": [
        "X = df[['sqft_living']]\n",
        "y = df['price']\n",
        "model = LinearRegression()\n",
        "model.fit(X, y)\n",
        "model.score(X, y)"
      ],
      "metadata": {
        "colab": {
          "base_uri": "https://localhost:8080/"
        },
        "id": "fVimwF9FgXdl",
        "outputId": "07e556bf-cbd5-4935-f100-29afd4b6d6ff"
      },
      "execution_count": 52,
      "outputs": [
        {
          "output_type": "execute_result",
          "data": {
            "text/plain": [
              "0.4928532179037931"
            ]
          },
          "metadata": {},
          "execution_count": 52
        }
      ]
    },
    {
      "cell_type": "markdown",
      "source": [
        "### MLR"
      ],
      "metadata": {
        "id": "z4DJ07IynGn3"
      }
    },
    {
      "cell_type": "code",
      "source": [
        "features =[\"floors\", \"waterfront\",\"lat\" ,\"bedrooms\" ,\"sqft_basement\" ,\"view\" ,\"bathrooms\",\"sqft_living15\",\"sqft_above\",\"grade\",\"sqft_living\"]\n",
        "X = df[features]\n",
        "y = df['price']\n",
        "X_train, X_test, y_train, y_test = train_test_split(X, y, test_size=0.15, random_state=42)\n",
        "\n",
        "model = LinearRegression()\n",
        "model.fit(X_train, y_train)\n",
        "\n",
        "y_pred = model.predict(X_test)\n",
        "r2 = r2_score(y_test, y_pred)\n",
        "print(f\"R-squared : {r2}\")"
      ],
      "metadata": {
        "colab": {
          "base_uri": "https://localhost:8080/"
        },
        "id": "u7IjNctmmyUO",
        "outputId": "86e5a238-7fb1-4cb9-fcd5-502aae94e3e2"
      },
      "execution_count": 50,
      "outputs": [
        {
          "output_type": "stream",
          "name": "stdout",
          "text": [
            "R-squared : 0.6465000583649868\n"
          ]
        }
      ]
    },
    {
      "cell_type": "code",
      "source": [
        "features =[\"floors\", \"waterfront\",\"lat\" ,\"bedrooms\" ,\"sqft_basement\" ,\"view\" ,\"bathrooms\",\"sqft_living15\",\"sqft_above\",\"grade\",\"sqft_living\"]\n",
        "X=df[features]\n",
        "y = df['price']\n",
        "model.fit(X, y)\n",
        "model.score(X, y)"
      ],
      "metadata": {
        "colab": {
          "base_uri": "https://localhost:8080/"
        },
        "id": "cVuER3S4gjhX",
        "outputId": "8b55bc3f-4cf2-445b-c3e9-a8802155722e"
      },
      "execution_count": null,
      "outputs": [
        {
          "output_type": "execute_result",
          "data": {
            "text/plain": [
              "0.6576722447699446"
            ]
          },
          "metadata": {},
          "execution_count": 148
        }
      ]
    },
    {
      "cell_type": "markdown",
      "source": [
        "### Polynomial Regression"
      ],
      "metadata": {
        "id": "kV8HA6mHpjBV"
      }
    },
    {
      "cell_type": "code",
      "source": [
        "features =[\"floors\", \"waterfront\",\"lat\" ,\"bedrooms\" ,\"sqft_basement\" ,\"view\" ,\"bathrooms\",\"sqft_living15\",\"sqft_above\",\"grade\",\"sqft_living\"]\n",
        "X = df[features]\n",
        "y = df['price']\n",
        "X_train, X_test, y_train, y_test = train_test_split(X, y, test_size=0.15, random_state=42)\n",
        "\n",
        "model = LinearRegression()\n",
        "pf = PolynomialFeatures(degree=3)\n",
        "X_train_poly = pf.fit_transform(X_train)\n",
        "X_test_poly = pf.fit_transform(X_test)\n",
        "model.fit(X_train_poly, y_train)\n",
        "model.score(X_test_poly, y_test)"
      ],
      "metadata": {
        "colab": {
          "base_uri": "https://localhost:8080/"
        },
        "id": "YFdnG-5MnsuD",
        "outputId": "722beed5-8093-4c20-feb8-9c6ab5e2ac5d"
      },
      "execution_count": 56,
      "outputs": [
        {
          "output_type": "execute_result",
          "data": {
            "text/plain": [
              "0.7372518946855654"
            ]
          },
          "metadata": {},
          "execution_count": 56
        }
      ]
    }
  ]
}