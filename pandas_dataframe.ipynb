{
  "nbformat": 4,
  "nbformat_minor": 0,
  "metadata": {
    "colab": {
      "provenance": [],
      "authorship_tag": "ABX9TyOxzWLIsO7gW77NmmafHPLS",
      "include_colab_link": true
    },
    "kernelspec": {
      "name": "python3",
      "display_name": "Python 3"
    },
    "language_info": {
      "name": "python"
    }
  },
  "cells": [
    {
      "cell_type": "markdown",
      "metadata": {
        "id": "view-in-github",
        "colab_type": "text"
      },
      "source": [
        "<a href=\"https://colab.research.google.com/github/mehdiabbasidev/darsman-machine-learning/blob/main/pandas_dataframe.ipynb\" target=\"_parent\"><img src=\"https://colab.research.google.com/assets/colab-badge.svg\" alt=\"Open In Colab\"/></a>"
      ]
    },
    {
      "cell_type": "code",
      "source": [
        "from google.colab import drive\n",
        "drive.mount('/content/drive')"
      ],
      "metadata": {
        "id": "MXvVfQ1WV0ZA"
      },
      "execution_count": null,
      "outputs": []
    },
    {
      "cell_type": "code",
      "execution_count": null,
      "metadata": {
        "id": "jpiTXfF_VWEi"
      },
      "outputs": [],
      "source": [
        "import pandas as pd"
      ]
    },
    {
      "cell_type": "code",
      "source": [
        "df=pd.read_csv('/content/drive/MyDrive/datasets/people.csv')"
      ],
      "metadata": {
        "id": "glqVpPXjVfQv"
      },
      "execution_count": null,
      "outputs": []
    },
    {
      "cell_type": "code",
      "source": [
        "df.head()\n",
        "df.head(10)\n",
        "df.tail()\n",
        "df.tail(10)\n",
        "df.sample(10)\n",
        "df.describe\n",
        "df.columns\n",
        "df.index\n",
        "df.attrs\n",
        "df.value_counts()\n",
        "df.values\n",
        "df.dtypes\n",
        "df.axes\n",
        "df.empty\n",
        "df.shape\n"
      ],
      "metadata": {
        "id": "cp99p3vgWKbg"
      },
      "execution_count": null,
      "outputs": []
    },
    {
      "cell_type": "code",
      "source": [
        "pd.Series([1, 2, 3, 4, 5])\n",
        "pd.Series(range(1,10))\n",
        "pd.Series(['mehdi', 'ali', 'reza', 'ahmad'])\n",
        "pd.Series([True, False, True,True,True,False,False])"
      ],
      "metadata": {
        "id": "rIW2HzzNdc2w"
      },
      "execution_count": null,
      "outputs": []
    },
    {
      "cell_type": "code",
      "source": [
        "df.iloc[0]\n",
        "df.iloc[[0]]\n",
        "df.iloc[0][1]\n",
        "df.iloc[[0,1]]\n",
        "df.iloc[0:5,[0,1,2]]\n",
        "df.iloc[0:5,0:6]\n",
        "df.iloc[0:5,0:5].iloc[[True,False, False, True,False]]"
      ],
      "metadata": {
        "id": "8cOuitp6b5TI"
      },
      "execution_count": null,
      "outputs": []
    },
    {
      "cell_type": "code",
      "source": [
        "list1=[28, 35, 29, 42,234]\n",
        "df1 = pd.DataFrame(list1)\n",
        "mat=[[1,2,3,4,5],[10,20,30,40,50]]\n",
        "df2 = pd.DataFrame(mat)\n",
        "df2.shape\n",
        "df2.dtypes\n",
        "\n",
        "df2.head()"
      ],
      "metadata": {
        "id": "G6mV16GKpB6f",
        "colab": {
          "base_uri": "https://localhost:8080/"
        },
        "outputId": "44512fe6-d998-4326-a2c3-384fe975a12d"
      },
      "execution_count": null,
      "outputs": [
        {
          "output_type": "execute_result",
          "data": {
            "text/plain": [
              "0    int64\n",
              "1    int64\n",
              "2    int64\n",
              "3    int64\n",
              "4    int64\n",
              "dtype: object"
            ]
          },
          "metadata": {},
          "execution_count": 51
        }
      ]
    }
  ]
}