{
  "nbformat": 4,
  "nbformat_minor": 0,
  "metadata": {
    "colab": {
      "provenance": [],
      "authorship_tag": "ABX9TyMfIVyQYxGSvbwMw7lRjsta",
      "include_colab_link": true
    },
    "kernelspec": {
      "name": "python3",
      "display_name": "Python 3"
    },
    "language_info": {
      "name": "python"
    }
  },
  "cells": [
    {
      "cell_type": "markdown",
      "metadata": {
        "id": "view-in-github",
        "colab_type": "text"
      },
      "source": [
        "<a href=\"https://colab.research.google.com/github/mehdiabbasidev/darsman-machine-learning/blob/main/sklearn_dataset.ipynb\" target=\"_parent\"><img src=\"https://colab.research.google.com/assets/colab-badge.svg\" alt=\"Open In Colab\"/></a>"
      ]
    },
    {
      "cell_type": "code",
      "source": [
        "from sklearn import datasets"
      ],
      "metadata": {
        "id": "5GNL_dAsaTqY"
      },
      "execution_count": null,
      "outputs": []
    },
    {
      "cell_type": "code",
      "execution_count": null,
      "metadata": {
        "id": "IQMyp8DIaFFq"
      },
      "outputs": [],
      "source": [
        "ds=datasets.load_iris()"
      ]
    },
    {
      "cell_type": "code",
      "source": [
        "ds.feature_names\n",
        "ds.data\n",
        "ds.target_names\n",
        "ds.target\n",
        "print(ds.DESCR)"
      ],
      "metadata": {
        "id": "E2vp4NxCawRp"
      },
      "execution_count": null,
      "outputs": []
    },
    {
      "cell_type": "code",
      "source": [
        "# ببدیل مقدار target به مقدار واقعی ستون درون دیتاست\n",
        "import pandas as pd\n",
        "target_names = ds.target_names\n",
        "targets = ds.target\n",
        "target_series = pd.Series(targets)\n",
        "target_series = target_series.replace({0: target_names[0], 1: target_names[1], 2: target_names[2]})"
      ],
      "metadata": {
        "id": "DatNaQVHgYDY"
      },
      "execution_count": null,
      "outputs": []
    },
    {
      "cell_type": "code",
      "source": [
        "ds.data[10,0]\n",
        "ds.data[10,0:3]\n",
        "ds.data[1:5,:3]\n",
        "ds.target[140]\n",
        "target_series[10:30]"
      ],
      "metadata": {
        "id": "IGjq50Bda7X4"
      },
      "execution_count": null,
      "outputs": []
    },
    {
      "cell_type": "code",
      "source": [
        "from sklearn.datasets import make_regression\n",
        "X,y= make_regression(n_samples=20, n_features=3, noise=0.1)\n",
        "X.shape\n",
        "X.dtype\n",
        "\n",
        "y.shape"
      ],
      "metadata": {
        "id": "Xxggw82onspd",
        "colab": {
          "base_uri": "https://localhost:8080/"
        },
        "outputId": "548dcfb3-5a3a-4ad0-e1ef-b4a6a0c220bc"
      },
      "execution_count": null,
      "outputs": [
        {
          "output_type": "execute_result",
          "data": {
            "text/plain": [
              "(20,)"
            ]
          },
          "metadata": {},
          "execution_count": 44
        }
      ]
    },
    {
      "cell_type": "code",
      "source": [
        "from sklearn.datasets import make_classification\n",
        "X, y = make_classification(n_samples=20, n_features=5, n_classes=2)\n",
        "X.shape\n",
        "X.dtype\n",
        "\n",
        "y.shape"
      ],
      "metadata": {
        "id": "gVxWHNZtofVO"
      },
      "execution_count": null,
      "outputs": []
    }
  ]
}