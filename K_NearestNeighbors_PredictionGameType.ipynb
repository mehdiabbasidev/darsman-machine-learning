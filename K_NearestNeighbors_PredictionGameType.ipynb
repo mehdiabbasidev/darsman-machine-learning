{
  "nbformat": 4,
  "nbformat_minor": 0,
  "metadata": {
    "colab": {
      "provenance": [],
      "authorship_tag": "ABX9TyNjBZMTawvBID2H3FRAN/M1",
      "include_colab_link": true
    },
    "kernelspec": {
      "name": "python3",
      "display_name": "Python 3"
    },
    "language_info": {
      "name": "python"
    }
  },
  "cells": [
    {
      "cell_type": "markdown",
      "metadata": {
        "id": "view-in-github",
        "colab_type": "text"
      },
      "source": [
        "<a href=\"https://colab.research.google.com/github/mehdiabbasidev/darsman-machine-learning/blob/main/K_NearestNeighbors_PredictionGameType.ipynb\" target=\"_parent\"><img src=\"https://colab.research.google.com/assets/colab-badge.svg\" alt=\"Open In Colab\"/></a>"
      ]
    },
    {
      "cell_type": "markdown",
      "source": [
        "### Dataset download link:\n",
        "https://drive.google.com/file/d/1yVuqmkbw3c1wgHJJzz_8GE3bFaYXXPwh/view?usp=sharing"
      ],
      "metadata": {
        "id": "NpSXWUc2WZNo"
      }
    },
    {
      "cell_type": "code",
      "execution_count": null,
      "metadata": {
        "id": "InBvbQuUVwlY"
      },
      "outputs": [],
      "source": [
        "from google.colab import drive\n",
        "drive.mount('/content/drive/')"
      ]
    },
    {
      "cell_type": "code",
      "source": [
        "import pandas as pd\n",
        "from sklearn.preprocessing import LabelEncoder\n",
        "from sklearn.neighbors import KNeighborsClassifier"
      ],
      "metadata": {
        "id": "9AXIUzyWWuxl"
      },
      "execution_count": null,
      "outputs": []
    },
    {
      "cell_type": "code",
      "source": [
        "import warnings\n",
        "warnings.filterwarnings(\"ignore\")"
      ],
      "metadata": {
        "id": "RQpngiVWeImy"
      },
      "execution_count": null,
      "outputs": []
    },
    {
      "cell_type": "code",
      "source": [
        "df=pd.read_csv(\"/content/drive/MyDrive/datasets/game_knn.csv\")\n",
        "df\n",
        "df.shape"
      ],
      "metadata": {
        "id": "IKT4pZ2XWviD"
      },
      "execution_count": null,
      "outputs": []
    },
    {
      "cell_type": "code",
      "source": [
        "df = df.drop([\"Name\"], axis=1)\n",
        "df"
      ],
      "metadata": {
        "id": "iRDKJch1djjJ"
      },
      "execution_count": null,
      "outputs": []
    },
    {
      "cell_type": "code",
      "source": [
        "label_encoder = LabelEncoder()\n",
        "gender_encoded = label_encoder.fit_transform(df[\"Gender\"])\n",
        "sport_encoded = label_encoder.fit_transform(df[\"Sport\"])\n",
        "df = df.drop([\"Gender\",\"Sport\"], axis=1)\n",
        "df.insert(1, \"Gender\", gender_encoded)  # Inserting gender values\n",
        "df.insert(2, \"Sport\", sport_encoded)  # Inserting gender values\n",
        "df"
      ],
      "metadata": {
        "id": "AT8sDxUKXHzY"
      },
      "execution_count": null,
      "outputs": []
    },
    {
      "cell_type": "code",
      "source": [
        "X=df.drop([\"Sport\"], axis=1)\n",
        "y=df[\"Sport\"]"
      ],
      "metadata": {
        "id": "e5sCtktnXPkY"
      },
      "execution_count": null,
      "outputs": []
    },
    {
      "cell_type": "code",
      "source": [
        "KNN_classifier=KNeighborsClassifier(n_neighbors=3,metric=\"euclidean\")\n",
        "KNN_classifier.fit(X,y)\n",
        "y_pred=KNN_classifier.predict(X)"
      ],
      "metadata": {
        "id": "0MwH0E_fW48d"
      },
      "execution_count": null,
      "outputs": []
    },
    {
      "cell_type": "code",
      "source": [
        "from sklearn.metrics import confusion_matrix,accuracy_score,recall_score,precision_score,classification_report\n",
        "print(\"confusion_matrix:\\n\", confusion_matrix(y, y_pred))\n",
        "print(\"accuracy_score:\", accuracy_score(y, y_pred))\n",
        "print(\"recall_score:\", recall_score(y, y_pred,average='micro'))\n",
        "print(\"precision_score:\", precision_score(y, y_pred,average='micro'))\n",
        "print(f\"\\nClassification Report:\\n{classification_report(y, y_pred )}\")"
      ],
      "metadata": {
        "id": "GqTVh7w6osFL"
      },
      "execution_count": null,
      "outputs": []
    },
    {
      "cell_type": "code",
      "source": [
        "print(KNN_classifier.predict([[55,1]]))\n",
        "print(KNN_classifier.predict([[20,1]]))\n",
        "print(KNN_classifier.predict([[55,0]]))\n",
        "print(KNN_classifier.predict([[32,1]]))"
      ],
      "metadata": {
        "id": "McYjhL4td7ot"
      },
      "execution_count": null,
      "outputs": []
    }
  ]
}