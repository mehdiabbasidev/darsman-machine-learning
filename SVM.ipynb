{
  "cells": [
    {
      "cell_type": "markdown",
      "metadata": {
        "id": "view-in-github",
        "colab_type": "text"
      },
      "source": [
        "<a href=\"https://colab.research.google.com/github/mehdiabbasidev/darsman-machine-learning/blob/main/SVM.ipynb\" target=\"_parent\"><img src=\"https://colab.research.google.com/assets/colab-badge.svg\" alt=\"Open In Colab\"/></a>"
      ]
    },
    {
      "cell_type": "markdown",
      "source": [
        "### Dataset download link:\n",
        "https://drive.google.com/file/d/13kKragWNy0U1al-U0alNmgBuTtXbN0KB/view?usp=sharing"
      ],
      "metadata": {
        "id": "HCbwXeK27_d-"
      }
    },
    {
      "cell_type": "code",
      "source": [
        "from google.colab import drive\n",
        "drive.mount('/content/drive/')"
      ],
      "metadata": {
        "id": "y95vZcfO8M62"
      },
      "execution_count": null,
      "outputs": []
    },
    {
      "cell_type": "code",
      "execution_count": null,
      "metadata": {
        "id": "H_o0nOyh7mNc"
      },
      "outputs": [],
      "source": [
        "import pandas as pd\n",
        "import numpy as np\n",
        "import matplotlib.pyplot as plt\n",
        "import seaborn as sns\n",
        "from sklearn.model_selection import train_test_split\n",
        "from sklearn.preprocessing import StandardScaler\n",
        "from sklearn.svm import SVC\n",
        "from sklearn.metrics import accuracy_score,confusion_matrix,classification_report\n",
        "%matplotlib inline"
      ]
    },
    {
      "cell_type": "code",
      "execution_count": null,
      "metadata": {
        "id": "9SFpc17S7mNd"
      },
      "outputs": [],
      "source": [
        "import warnings\n",
        "warnings.filterwarnings('ignore')"
      ]
    },
    {
      "cell_type": "markdown",
      "source": [
        "### Pulsar Dataset:\n",
        "* Mean of the integrated profile: میانگین پروفایل یکپارچه (شدت پالس‌ها در یک دوره زمانی)\n",
        "* Standard deviation of the integrated profile: انحراف معیار پروفایل یکپارچه (نوسانات شدت پالس‌ها)\n",
        "* Excess kurtosis of the integrated profile: کشیدگی اضافی پروفایل یکپارچه (میزان تیز بودن توزیع شدت پالس‌ها)\n",
        "* Skewness of the integrated profile: چولگی پروفایل یکپارچه (تقارن یا عدم تقارن توزیع شدت پالس‌ها)\n",
        "* Mean of the DM-SNR curve: میانگین منحنی DM-SNR (تاخیر پراکندگی)\n",
        "* Standard deviation of the DM-SNR curve: انحراف معیار منحنی DM-SNR (نوسانات شدت سیگنال به نویز)\n",
        "* Excess kurtosis of the DM-SNR curve: کشیدگی اضافی منحنی DM-SNR (میزان تیز بودن توزیع شدت سیگنال به نویز)\n",
        "* Skewness of the DM-SNR curve: چولگی منحنی DM-SNR (تقارن یا عدم تقارن توزیع شدت سیگنال به نویز)\n",
        "* target_class: هست یا خیر pulsar اینکه ستاره"
      ],
      "metadata": {
        "id": "ptYw9ZlevcGQ"
      }
    },
    {
      "cell_type": "code",
      "execution_count": null,
      "metadata": {
        "id": "6floU0eb7mNd"
      },
      "outputs": [],
      "source": [
        "df = pd.read_csv('/content/drive/MyDrive/datasets/pulsar_stars.csv')\n",
        "df.head()\n",
        "df.shape"
      ]
    },
    {
      "cell_type": "code",
      "execution_count": null,
      "metadata": {
        "id": "gKDE_51S7mNf"
      },
      "outputs": [],
      "source": [
        "df.columns = ['IP Mean', 'IP Sd', 'IP Kurtosis', 'IP Skewness',\n",
        "              'DM-SNR Mean', 'DM-SNR Sd', 'DM-SNR Kurtosis', 'DM-SNR Skewness', 'target_class']\n",
        "df.head()"
      ]
    },
    {
      "cell_type": "code",
      "execution_count": null,
      "metadata": {
        "id": "wfaUc4yv7mNg"
      },
      "outputs": [],
      "source": [
        "df['target_class'].value_counts()"
      ]
    },
    {
      "cell_type": "code",
      "execution_count": null,
      "metadata": {
        "id": "T_iPMneS7mNg"
      },
      "outputs": [],
      "source": [
        "df['target_class'].value_counts()/len(df)*100"
      ]
    },
    {
      "cell_type": "code",
      "execution_count": null,
      "metadata": {
        "id": "dxAnnItZ7mNg"
      },
      "outputs": [],
      "source": [
        "df.info()\n",
        "df.isnull().sum()\n",
        "round(df.describe(),2)"
      ]
    },
    {
      "cell_type": "code",
      "source": [
        "import scipy.stats as stats\n",
        "\n",
        "df['zscore_IP Mean'] = stats.zscore(df['IP Mean'])\n",
        "outliers=df[(df['zscore_IP Mean']<-3) | (3 <df['zscore_IP Mean']) ]\n",
        "outliers.shape"
      ],
      "metadata": {
        "id": "0dHcvEEvxRPh"
      },
      "execution_count": null,
      "outputs": []
    },
    {
      "cell_type": "code",
      "source": [
        "df=df.drop(['zscore_IP Mean'], axis=1)\n",
        "df.head()"
      ],
      "metadata": {
        "id": "wQqndVPsx8vy"
      },
      "execution_count": null,
      "outputs": []
    },
    {
      "cell_type": "code",
      "execution_count": null,
      "metadata": {
        "id": "4d5TWPir7mNk"
      },
      "outputs": [],
      "source": [
        "plt.figure(figsize=(24,20))\n",
        "\n",
        "for i, col in enumerate(df.columns[:8], start=1):\n",
        "    plt.subplot(4, 2, i)\n",
        "    df.boxplot(column=col, ax=plt.gca())\n",
        "    plt.title('')\n",
        "    plt.ylabel(col)"
      ]
    },
    {
      "cell_type": "code",
      "execution_count": null,
      "metadata": {
        "id": "Co-jrgO_7mNl"
      },
      "outputs": [],
      "source": [
        "X = df.drop(['target_class'], axis=1)\n",
        "y = df['target_class']"
      ]
    },
    {
      "cell_type": "code",
      "execution_count": null,
      "metadata": {
        "id": "l1yHvhR-7mNl"
      },
      "outputs": [],
      "source": [
        "X_train, X_test, y_train, y_test = train_test_split(X, y, test_size = 0.2, random_state = 0)"
      ]
    },
    {
      "cell_type": "code",
      "execution_count": null,
      "metadata": {
        "id": "oc98klp07mNl"
      },
      "outputs": [],
      "source": [
        "cols = X.columns\n",
        "cols\n",
        "\n",
        "scaler = StandardScaler()\n",
        "X_train = scaler.fit_transform(X_train)\n",
        "X_test = scaler.transform(X_test)\n",
        "\n",
        "X_train = pd.DataFrame(X_train, columns=[cols])\n",
        "X_test = pd.DataFrame(X_test, columns=[cols])\n",
        "X_train, X_test"
      ]
    },
    {
      "cell_type": "code",
      "execution_count": null,
      "metadata": {
        "id": "oYJTlMzg7mNm"
      },
      "outputs": [],
      "source": [
        "svc=SVC()\n",
        "svc.fit(X_train,y_train)\n",
        "y_pred=svc.predict(X_test)\n",
        "print(f\"accuracy score for c=1 : {accuracy_score(y_test, y_pred):0.4f}\")"
      ]
    },
    {
      "cell_type": "code",
      "execution_count": null,
      "metadata": {
        "id": "n5get1cA7mNm"
      },
      "outputs": [],
      "source": [
        "svc=SVC(C=100)\n",
        "svc.fit(X_train,y_train)\n",
        "y_pred=svc.predict(X_test)\n",
        "print(f\"accuracy score for C=100 : {accuracy_score(y_test, y_pred):0.4f}\")"
      ]
    },
    {
      "cell_type": "code",
      "execution_count": null,
      "metadata": {
        "id": "yddTJNSV7mNn"
      },
      "outputs": [],
      "source": [
        "svc=SVC(C=1000)\n",
        "svc.fit(X_train,y_train)\n",
        "y_pred=svc.predict(X_test)\n",
        "print(f\"accuracy score for C=1000 : {accuracy_score(y_test, y_pred):0.4f}\")"
      ]
    },
    {
      "cell_type": "code",
      "execution_count": null,
      "metadata": {
        "id": "q_gSfmzx7mNn"
      },
      "outputs": [],
      "source": [
        "linear_svc1=SVC(kernel='linear')\n",
        "linear_svc1.fit(X_train,y_train)\n",
        "y_pred=linear_svc1.predict(X_test)\n",
        "print(f\"accuracy score for kernel='linear' and C=1 : {accuracy_score(y_test, y_pred):0.4f}\")"
      ]
    },
    {
      "cell_type": "code",
      "execution_count": null,
      "metadata": {
        "id": "-pRK6BF77mNn"
      },
      "outputs": [],
      "source": [
        "linear_svc100=SVC(C=100,kernel='linear')\n",
        "linear_svc100.fit(X_train, y_train)\n",
        "y_pred=linear_svc100.predict(X_test)\n",
        "print(f\"accuracy score for kernel='linear' and C=100 : {accuracy_score(y_test, y_pred):0.4f}\")"
      ]
    },
    {
      "cell_type": "code",
      "execution_count": null,
      "metadata": {
        "id": "FTTBC40I7mNo"
      },
      "outputs": [],
      "source": [
        "linear_svc1000=SVC(C=1000,kernel='linear')\n",
        "linear_svc1000.fit(X_train, y_train)\n",
        "y_pred=linear_svc1000.predict(X_test)\n",
        "print(f\"accuracy score for kernel='linear' and C=1000 : {accuracy_score(y_test, y_pred):0.4f}\")"
      ]
    },
    {
      "cell_type": "code",
      "source": [
        "poly_svc=SVC(kernel='poly', C=1)\n",
        "poly_svc.fit(X_train,y_train)\n",
        "y_pred=poly_svc.predict(X_test)\n",
        "print(f\"accuracy score for kernel='poly' and C=1 : {accuracy_score(y_test, y_pred):0.4f}\")"
      ],
      "metadata": {
        "id": "20ZrXwW2zCaP"
      },
      "execution_count": null,
      "outputs": []
    },
    {
      "cell_type": "code",
      "source": [
        "poly_svc100=SVC(kernel='poly', C=100)\n",
        "poly_svc100.fit(X_train,y_train)\n",
        "y_pred=poly_svc100.predict(X_test)\n",
        "print(f\"accuracy score for kernel='poly' and C=100 : {accuracy_score(y_test, y_pred):0.4f}\")"
      ],
      "metadata": {
        "id": "sWtgE_SVzSHi"
      },
      "execution_count": null,
      "outputs": []
    },
    {
      "cell_type": "code",
      "source": [
        "sigmoid_svc=SVC(kernel='sigmoid', C=1)\n",
        "sigmoid_svc.fit(X_train,y_train)\n",
        "y_pred=sigmoid_svc.predict(X_test)\n",
        "print(f\"accuracy score for kernel='sigmoid' and C=1 : {accuracy_score(y_test, y_pred):0.4f}\")"
      ],
      "metadata": {
        "id": "sFRykGBTzaLW"
      },
      "execution_count": null,
      "outputs": []
    },
    {
      "cell_type": "code",
      "source": [
        "sigmoid_svc100=SVC(kernel='sigmoid', C=100)\n",
        "sigmoid_svc100.fit(X_train,y_train)\n",
        "y_pred=sigmoid_svc100.predict(X_test)\n",
        "print(f\"accuracy score for kernel='sigmoid' and C=100 : {accuracy_score(y_test, y_pred):0.4f}\")"
      ],
      "metadata": {
        "id": "RV_iGKVuze7r"
      },
      "execution_count": null,
      "outputs": []
    },
    {
      "cell_type": "markdown",
      "metadata": {
        "id": "ueDleLA87mNo"
      },
      "source": [
        "### Check overfitting"
      ]
    },
    {
      "cell_type": "code",
      "execution_count": null,
      "metadata": {
        "id": "37nU5dSG7mNo"
      },
      "outputs": [],
      "source": [
        "print(f'Training set score: {svc.score(X_train, y_train):.4f}')\n",
        "print(f'Test set score: {svc.score(X_test, y_test):.4f}')\n",
        "\n",
        "print()\n",
        "\n",
        "print(f'Training set score: {linear_svc100.score(X_train, y_train):.4f}')\n",
        "print(f'Test set score: {linear_svc100.score(X_test, y_test):.4f}')\n",
        "\n",
        "print()\n",
        "\n",
        "print(f'Training set score: {linear_svc1000.score(X_train, y_train):.4f}')\n",
        "print(f'Test set score: {linear_svc1000.score(X_test, y_test):.4f}')\n"
      ]
    },
    {
      "cell_type": "markdown",
      "metadata": {
        "id": "OHCO3flK7mNo"
      },
      "source": [
        "### Null Accuracy"
      ]
    },
    {
      "cell_type": "code",
      "execution_count": null,
      "metadata": {
        "id": "at_4uCjf7mNp"
      },
      "outputs": [],
      "source": [
        "vc=y_test.value_counts()\n",
        "vc"
      ]
    },
    {
      "cell_type": "code",
      "execution_count": null,
      "metadata": {
        "id": "wJbwTG4M7mNp"
      },
      "outputs": [],
      "source": [
        "null_accuracy = (3306/(3306+274))\n",
        "print(f'Null accuracy score: {null_accuracy:0.4f}')"
      ]
    },
    {
      "cell_type": "markdown",
      "metadata": {
        "id": "9rg6lPyu7mNs"
      },
      "source": [
        "## 20. Hyperparameter Optimization using GridSearch CV"
      ]
    },
    {
      "cell_type": "code",
      "execution_count": null,
      "metadata": {
        "id": "_2THv5e67mNs"
      },
      "outputs": [],
      "source": [
        "from sklearn.model_selection import GridSearchCV\n",
        "from sklearn.svm import SVC\n",
        "svc=SVC()\n",
        "param_grid = {\n",
        "    'C': [1, 10, 100,1000],\n",
        "    'gamma': [1, 0.1, 0.01, 0.001],\n",
        "    'kernel': ['linear', 'rbf', 'poly']\n",
        "}\n",
        "grid_search = GridSearchCV(estimator = svc,\n",
        "                           param_grid = param_grid,\n",
        "                           scoring = 'accuracy',\n",
        "                           cv = 5,\n",
        "                           verbose=0)\n",
        "grid_search.fit(X_train, y_train)"
      ]
    },
    {
      "cell_type": "code",
      "execution_count": null,
      "metadata": {
        "id": "dLCEHatV7mNs"
      },
      "outputs": [],
      "source": [
        "print(f\"best score : {grid_search.best_score_:.4f}\\n\\n\")\n",
        "print(f\"Best Parameters :\\n{grid_search.best_params_}\")"
      ]
    },
    {
      "cell_type": "code",
      "source": [
        "svc=SVC(C=100,kernel='rbf',gamma='scale')\n",
        "svc.fit(X_train,y_train)\n",
        "svc.predict(X_test)\n",
        "print(f\"accuracy score for kernel='rbf' and C=10 : {accuracy_score(y_test, y_pred):0.4f}\")"
      ],
      "metadata": {
        "id": "MCmY32eWvvLQ"
      },
      "execution_count": null,
      "outputs": []
    }
  ],
  "metadata": {
    "kernelspec": {
      "display_name": "Python 3",
      "language": "python",
      "name": "python3"
    },
    "language_info": {
      "codemirror_mode": {
        "name": "ipython",
        "version": 3
      },
      "file_extension": ".py",
      "mimetype": "text/x-python",
      "name": "python",
      "nbconvert_exporter": "python",
      "pygments_lexer": "ipython3",
      "version": "3.7.0"
    },
    "colab": {
      "provenance": [],
      "include_colab_link": true
    }
  },
  "nbformat": 4,
  "nbformat_minor": 0
}