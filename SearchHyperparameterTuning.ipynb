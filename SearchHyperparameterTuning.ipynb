{
  "nbformat": 4,
  "nbformat_minor": 0,
  "metadata": {
    "colab": {
      "provenance": [],
      "authorship_tag": "ABX9TyP5HVORvmwwkMyo/0sk7f3w",
      "include_colab_link": true
    },
    "kernelspec": {
      "name": "python3",
      "display_name": "Python 3"
    },
    "language_info": {
      "name": "python"
    }
  },
  "cells": [
    {
      "cell_type": "markdown",
      "metadata": {
        "id": "view-in-github",
        "colab_type": "text"
      },
      "source": [
        "<a href=\"https://colab.research.google.com/github/mehdiabbasidev/darsman-machine-learning/blob/main/SearchHyperparameterTuning.ipynb\" target=\"_parent\"><img src=\"https://colab.research.google.com/assets/colab-badge.svg\" alt=\"Open In Colab\"/></a>"
      ]
    },
    {
      "cell_type": "code",
      "source": [
        "!pip install scikit-optimize"
      ],
      "metadata": {
        "id": "ZXcwjVsXuseo"
      },
      "execution_count": null,
      "outputs": []
    },
    {
      "cell_type": "code",
      "execution_count": null,
      "metadata": {
        "id": "FXOe88a0ucr_"
      },
      "outputs": [],
      "source": [
        "from sklearn.datasets import load_iris\n",
        "from sklearn.model_selection import train_test_split\n",
        "from sklearn.linear_model import Ridge, Lasso, ElasticNet\n",
        "from sklearn.metrics import r2_score\n",
        "from sklearn.model_selection import GridSearchCV\n",
        "from sklearn.model_selection import RandomizedSearchCV\n",
        "from sklearn.model_selection import cross_val_score\n",
        "from skopt import BayesSearchCV\n",
        "import numpy as np"
      ]
    },
    {
      "cell_type": "code",
      "source": [
        "data = load_iris()\n",
        "X, y = data.data, data.target\n",
        "X_train, X_test, y_train, y_test = train_test_split(X, y, test_size=0.2, random_state=42)"
      ],
      "metadata": {
        "id": "ZGEEN50JvIVA"
      },
      "execution_count": null,
      "outputs": []
    },
    {
      "cell_type": "markdown",
      "source": [
        "## Grid Search\n",
        "<img src=\"https://www.yourdatateacher.com/wp-content/uploads/2021/03/image-6.png\" width=\"300\"/>"
      ],
      "metadata": {
        "id": "udlOu9q8vkBp"
      }
    },
    {
      "cell_type": "code",
      "source": [
        "model = ElasticNet()\n",
        "params = {\n",
        "            'alpha': [1e-4,1e-3,1e-2,0.1,0.2,0.3,0.4,0.5,0.6,0.7,0.8,0.9,1],\n",
        "            'l1_ratio': [0.1,0.2,0.3,0.4,0.5,0.6,0.7,0.8]\n",
        "            }\n",
        "\n",
        "grid_search = GridSearchCV(estimator=model,param_grid=params,scoring='r2',cv=5)\n",
        "\n",
        "grid_search.fit(X_train, y_train)\n",
        "\n",
        "print(\"Grid Search : \\n===============================\")\n",
        "print(f\"Best Parameters: {grid_search.best_params_}\")\n",
        "print(f\"Best R2 Score: {grid_search.best_score_}\")"
      ],
      "metadata": {
        "id": "6Wl7dAI3vMKn"
      },
      "execution_count": null,
      "outputs": []
    },
    {
      "cell_type": "markdown",
      "source": [
        "## Random Search\n",
        "<img src =\"https://www.yourdatateacher.com/wp-content/uploads/2021/03/image-8.png\" width=\"300\"/>"
      ],
      "metadata": {
        "id": "JsviAtuWwTKA"
      }
    },
    {
      "cell_type": "code",
      "source": [
        "model = ElasticNet()\n",
        "params = {'alpha': [1e-4,1e-3,1e-2,0.1,0.2,0.3,0.4,0.5,0.6,0.7,0.8,0.9,1],\n",
        "              'l1_ratio': [0.1,0.2,0.3,0.4,0.5,0.6,0.7,0.8]}\n",
        "\n",
        "random_search = RandomizedSearchCV(\n",
        "                                    estimator=model,\n",
        "                                    param_distributions=params,\n",
        "                                    scoring='r2',\n",
        "                                    cv=5,\n",
        "                                    n_iter=3,\n",
        "                                    verbose=3)\n",
        "\n",
        "random_search.fit(X_train, y_train)\n",
        "\n",
        "print(\"RandomizedSearchCV : \\n===============================\")\n",
        "print(\"Best Parameters:\", random_search.best_params_)\n",
        "print(\"Best R2 Score:\", random_search.best_score_)"
      ],
      "metadata": {
        "id": "0u1gI4Bawt53"
      },
      "execution_count": null,
      "outputs": []
    },
    {
      "cell_type": "markdown",
      "source": [
        "## Bayesian Optimization\n",
        "\n",
        "<img src=\"https://www.researchgate.net/profile/Marcin-Chlebus/publication/340924091/figure/fig2/AS:884248156336128@1587832597156/Bayesian-optimization-of-score-function-for-a-single-hyperparameter-value-h-and-5.png\" width=\"400\"/>"
      ],
      "metadata": {
        "id": "KeRDPsq9zVqG"
      }
    },
    {
      "cell_type": "code",
      "source": [
        "model = ElasticNet()\n",
        "params = {'alpha': [1e-4,1e-3,1e-2,0.1,0.2,0.3,0.4,0.5,0.6,0.7,0.8,0.9,1],\n",
        "              'l1_ratio': [0.1,0.2,0.3,0.4,0.5,0.6,0.7,0.8]}\n",
        "opt = BayesSearchCV(\n",
        "                    estimator=model,\n",
        "                    search_spaces=params,\n",
        "                    n_iter=20,\n",
        "                    cv=5,\n",
        "                    verbose=3,\n",
        "                    scoring=\"r2\")\n",
        "\n",
        "opt.fit(X_train, y_train)\n",
        "\n",
        "print(\"Bayesian Optimization : \\n===============================\")\n",
        "print(\"Best parameters:\", opt.best_params_)\n",
        "print(\"Best R2 Score:\", opt.best_score_)\n"
      ],
      "metadata": {
        "id": "0dsMbHF3zsDW",
        "colab": {
          "base_uri": "https://localhost:8080/"
        },
        "outputId": "73b6eb78-979d-4b1b-953d-601604f0fd57"
      },
      "execution_count": 14,
      "outputs": [
        {
          "output_type": "stream",
          "name": "stdout",
          "text": [
            "Fitting 5 folds for each of 1 candidates, totalling 5 fits\n",
            "[CV 1/5] END ...........alpha=0.9, l1_ratio=0.2;, score=0.837 total time=   0.0s\n",
            "[CV 2/5] END ...........alpha=0.9, l1_ratio=0.2;, score=0.810 total time=   0.0s\n",
            "[CV 3/5] END ...........alpha=0.9, l1_ratio=0.2;, score=0.829 total time=   0.0s\n",
            "[CV 4/5] END ...........alpha=0.9, l1_ratio=0.2;, score=0.791 total time=   0.0s\n",
            "[CV 5/5] END ...........alpha=0.9, l1_ratio=0.2;, score=0.758 total time=   0.0s\n",
            "Fitting 5 folds for each of 1 candidates, totalling 5 fits\n",
            "[CV 1/5] END ...........alpha=0.6, l1_ratio=0.5;, score=0.839 total time=   0.0s\n",
            "[CV 2/5] END ...........alpha=0.6, l1_ratio=0.5;, score=0.812 total time=   0.0s\n",
            "[CV 3/5] END ...........alpha=0.6, l1_ratio=0.5;, score=0.830 total time=   0.0s\n",
            "[CV 4/5] END ...........alpha=0.6, l1_ratio=0.5;, score=0.794 total time=   0.0s\n",
            "[CV 5/5] END ...........alpha=0.6, l1_ratio=0.5;, score=0.760 total time=   0.0s\n",
            "Fitting 5 folds for each of 1 candidates, totalling 5 fits\n",
            "[CV 1/5] END ...........alpha=0.5, l1_ratio=0.1;, score=0.898 total time=   0.0s\n",
            "[CV 2/5] END ...........alpha=0.5, l1_ratio=0.1;, score=0.886 total time=   0.0s\n",
            "[CV 3/5] END ...........alpha=0.5, l1_ratio=0.1;, score=0.890 total time=   0.0s\n",
            "[CV 4/5] END ...........alpha=0.5, l1_ratio=0.1;, score=0.857 total time=   0.0s\n",
            "[CV 5/5] END ...........alpha=0.5, l1_ratio=0.1;, score=0.853 total time=   0.0s\n",
            "Fitting 5 folds for each of 1 candidates, totalling 5 fits\n",
            "[CV 1/5] END ...........alpha=0.7, l1_ratio=0.4;, score=0.832 total time=   0.0s\n",
            "[CV 2/5] END ...........alpha=0.7, l1_ratio=0.4;, score=0.806 total time=   0.0s\n",
            "[CV 3/5] END ...........alpha=0.7, l1_ratio=0.4;, score=0.824 total time=   0.0s\n",
            "[CV 4/5] END ...........alpha=0.7, l1_ratio=0.4;, score=0.788 total time=   0.0s\n",
            "[CV 5/5] END ...........alpha=0.7, l1_ratio=0.4;, score=0.752 total time=   0.0s\n",
            "Fitting 5 folds for each of 1 candidates, totalling 5 fits\n",
            "[CV 1/5] END ...........alpha=0.5, l1_ratio=0.5;, score=0.861 total time=   0.0s\n",
            "[CV 2/5] END ...........alpha=0.5, l1_ratio=0.5;, score=0.836 total time=   0.0s\n",
            "[CV 3/5] END ...........alpha=0.5, l1_ratio=0.5;, score=0.853 total time=   0.0s\n",
            "[CV 4/5] END ...........alpha=0.5, l1_ratio=0.5;, score=0.812 total time=   0.0s\n",
            "[CV 5/5] END ...........alpha=0.5, l1_ratio=0.5;, score=0.791 total time=   0.0s\n",
            "Fitting 5 folds for each of 1 candidates, totalling 5 fits\n",
            "[CV 1/5] END ...........alpha=0.6, l1_ratio=0.1;, score=0.890 total time=   0.0s\n",
            "[CV 2/5] END ...........alpha=0.6, l1_ratio=0.1;, score=0.876 total time=   0.0s\n",
            "[CV 3/5] END ...........alpha=0.6, l1_ratio=0.1;, score=0.882 total time=   0.0s\n",
            "[CV 4/5] END ...........alpha=0.6, l1_ratio=0.1;, score=0.850 total time=   0.0s\n",
            "[CV 5/5] END ...........alpha=0.6, l1_ratio=0.1;, score=0.839 total time=   0.0s\n",
            "Fitting 5 folds for each of 1 candidates, totalling 5 fits\n",
            "[CV 1/5] END ...........alpha=0.3, l1_ratio=0.8;, score=0.882 total time=   0.0s\n",
            "[CV 2/5] END ...........alpha=0.3, l1_ratio=0.8;, score=0.859 total time=   0.0s\n",
            "[CV 3/5] END ...........alpha=0.3, l1_ratio=0.8;, score=0.875 total time=   0.0s\n",
            "[CV 4/5] END ...........alpha=0.3, l1_ratio=0.8;, score=0.829 total time=   0.0s\n",
            "[CV 5/5] END ...........alpha=0.3, l1_ratio=0.8;, score=0.823 total time=   0.0s\n",
            "Fitting 5 folds for each of 1 candidates, totalling 5 fits\n",
            "[CV 1/5] END ...........alpha=0.8, l1_ratio=0.1;, score=0.872 total time=   0.0s\n",
            "[CV 2/5] END ...........alpha=0.8, l1_ratio=0.1;, score=0.855 total time=   0.0s\n",
            "[CV 3/5] END ...........alpha=0.8, l1_ratio=0.1;, score=0.865 total time=   0.0s\n",
            "[CV 4/5] END ...........alpha=0.8, l1_ratio=0.1;, score=0.835 total time=   0.0s\n",
            "[CV 5/5] END ...........alpha=0.8, l1_ratio=0.1;, score=0.811 total time=   0.0s\n",
            "Fitting 5 folds for each of 1 candidates, totalling 5 fits\n",
            "[CV 1/5] END ...........alpha=0.2, l1_ratio=0.2;, score=0.909 total time=   0.0s\n",
            "[CV 2/5] END ...........alpha=0.2, l1_ratio=0.2;, score=0.904 total time=   0.0s\n",
            "[CV 3/5] END ...........alpha=0.2, l1_ratio=0.2;, score=0.903 total time=   0.0s\n",
            "[CV 4/5] END ...........alpha=0.2, l1_ratio=0.2;, score=0.865 total time=   0.0s\n",
            "[CV 5/5] END ...........alpha=0.2, l1_ratio=0.2;, score=0.883 total time=   0.0s\n",
            "Fitting 5 folds for each of 1 candidates, totalling 5 fits\n",
            "[CV 1/5] END ...........alpha=0.5, l1_ratio=0.1;, score=0.898 total time=   0.0s\n",
            "[CV 2/5] END ...........alpha=0.5, l1_ratio=0.1;, score=0.886 total time=   0.0s\n",
            "[CV 3/5] END ...........alpha=0.5, l1_ratio=0.1;, score=0.890 total time=   0.0s\n",
            "[CV 4/5] END ...........alpha=0.5, l1_ratio=0.1;, score=0.857 total time=   0.0s\n",
            "[CV 5/5] END ...........alpha=0.5, l1_ratio=0.1;, score=0.853 total time=   0.0s\n",
            "Fitting 5 folds for each of 1 candidates, totalling 5 fits\n",
            "[CV 1/5] END ...........alpha=0.2, l1_ratio=0.3;, score=0.907 total time=   0.0s\n",
            "[CV 2/5] END ...........alpha=0.2, l1_ratio=0.3;, score=0.895 total time=   0.0s\n",
            "[CV 3/5] END ...........alpha=0.2, l1_ratio=0.3;, score=0.901 total time=   0.0s\n",
            "[CV 4/5] END ...........alpha=0.2, l1_ratio=0.3;, score=0.855 total time=   0.0s\n",
            "[CV 5/5] END ...........alpha=0.2, l1_ratio=0.3;, score=0.875 total time=   0.0s\n",
            "Fitting 5 folds for each of 1 candidates, totalling 5 fits\n",
            "[CV 1/5] END ...........alpha=0.2, l1_ratio=0.7;, score=0.901 total time=   0.0s\n",
            "[CV 2/5] END ...........alpha=0.2, l1_ratio=0.7;, score=0.882 total time=   0.0s\n",
            "[CV 3/5] END ...........alpha=0.2, l1_ratio=0.7;, score=0.894 total time=   0.0s\n",
            "[CV 4/5] END ...........alpha=0.2, l1_ratio=0.7;, score=0.845 total time=   0.0s\n",
            "[CV 5/5] END ...........alpha=0.2, l1_ratio=0.7;, score=0.857 total time=   0.0s\n",
            "Fitting 5 folds for each of 1 candidates, totalling 5 fits\n",
            "[CV 1/5] END ...........alpha=0.2, l1_ratio=0.6;, score=0.902 total time=   0.0s\n",
            "[CV 2/5] END ...........alpha=0.2, l1_ratio=0.6;, score=0.885 total time=   0.0s\n",
            "[CV 3/5] END ...........alpha=0.2, l1_ratio=0.6;, score=0.896 total time=   0.0s\n",
            "[CV 4/5] END ...........alpha=0.2, l1_ratio=0.6;, score=0.846 total time=   0.0s\n",
            "[CV 5/5] END ...........alpha=0.2, l1_ratio=0.6;, score=0.861 total time=   0.0s\n",
            "Fitting 5 folds for each of 1 candidates, totalling 5 fits\n",
            "[CV 1/5] END ...........alpha=0.2, l1_ratio=0.8;, score=0.899 total time=   0.0s\n",
            "[CV 2/5] END ...........alpha=0.2, l1_ratio=0.8;, score=0.880 total time=   0.0s\n",
            "[CV 3/5] END ...........alpha=0.2, l1_ratio=0.8;, score=0.893 total time=   0.0s\n",
            "[CV 4/5] END ...........alpha=0.2, l1_ratio=0.8;, score=0.844 total time=   0.0s\n",
            "[CV 5/5] END ...........alpha=0.2, l1_ratio=0.8;, score=0.854 total time=   0.0s\n",
            "Fitting 5 folds for each of 1 candidates, totalling 5 fits\n",
            "[CV 1/5] END ...........alpha=0.2, l1_ratio=0.4;, score=0.905 total time=   0.0s\n",
            "[CV 2/5] END ...........alpha=0.2, l1_ratio=0.4;, score=0.889 total time=   0.0s\n",
            "[CV 3/5] END ...........alpha=0.2, l1_ratio=0.4;, score=0.899 total time=   0.0s\n",
            "[CV 4/5] END ...........alpha=0.2, l1_ratio=0.4;, score=0.848 total time=   0.0s\n",
            "[CV 5/5] END ...........alpha=0.2, l1_ratio=0.4;, score=0.867 total time=   0.0s\n",
            "Fitting 5 folds for each of 1 candidates, totalling 5 fits\n",
            "[CV 1/5] END ...........alpha=0.3, l1_ratio=0.1;, score=0.908 total time=   0.0s\n",
            "[CV 2/5] END ...........alpha=0.3, l1_ratio=0.1;, score=0.903 total time=   0.0s\n",
            "[CV 3/5] END ...........alpha=0.3, l1_ratio=0.1;, score=0.901 total time=   0.0s\n",
            "[CV 4/5] END ...........alpha=0.3, l1_ratio=0.1;, score=0.867 total time=   0.0s\n",
            "[CV 5/5] END ...........alpha=0.3, l1_ratio=0.1;, score=0.878 total time=   0.0s\n",
            "Fitting 5 folds for each of 1 candidates, totalling 5 fits\n",
            "[CV 1/5] END ...........alpha=0.1, l1_ratio=0.1;, score=0.915 total time=   0.0s\n",
            "[CV 2/5] END ...........alpha=0.1, l1_ratio=0.1;, score=0.922 total time=   0.0s\n",
            "[CV 3/5] END ...........alpha=0.1, l1_ratio=0.1;, score=0.907 total time=   0.0s\n",
            "[CV 4/5] END ...........alpha=0.1, l1_ratio=0.1;, score=0.876 total time=   0.0s\n",
            "[CV 5/5] END ...........alpha=0.1, l1_ratio=0.1;, score=0.900 total time=   0.0s\n",
            "Fitting 5 folds for each of 1 candidates, totalling 5 fits\n",
            "[CV 1/5] END ...........alpha=0.9, l1_ratio=0.1;, score=0.862 total time=   0.0s\n",
            "[CV 2/5] END ...........alpha=0.9, l1_ratio=0.1;, score=0.844 total time=   0.0s\n",
            "[CV 3/5] END ...........alpha=0.9, l1_ratio=0.1;, score=0.855 total time=   0.0s\n",
            "[CV 4/5] END ...........alpha=0.9, l1_ratio=0.1;, score=0.826 total time=   0.0s\n",
            "[CV 5/5] END ...........alpha=0.9, l1_ratio=0.1;, score=0.796 total time=   0.0s\n",
            "Fitting 5 folds for each of 1 candidates, totalling 5 fits\n",
            "[CV 1/5] END ........alpha=0.0001, l1_ratio=0.1;, score=0.920 total time=   0.0s\n",
            "[CV 2/5] END ........alpha=0.0001, l1_ratio=0.1;, score=0.941 total time=   0.0s\n",
            "[CV 3/5] END ........alpha=0.0001, l1_ratio=0.1;, score=0.896 total time=   0.0s\n",
            "[CV 4/5] END ........alpha=0.0001, l1_ratio=0.1;, score=0.891 total time=   0.0s\n",
            "[CV 5/5] END ........alpha=0.0001, l1_ratio=0.1;, score=0.911 total time=   0.0s\n",
            "Fitting 5 folds for each of 1 candidates, totalling 5 fits\n",
            "[CV 1/5] END .............alpha=1, l1_ratio=0.1;, score=0.852 total time=   0.0s\n",
            "[CV 2/5] END .............alpha=1, l1_ratio=0.1;, score=0.832 total time=   0.0s\n",
            "[CV 3/5] END .............alpha=1, l1_ratio=0.1;, score=0.844 total time=   0.0s\n",
            "[CV 4/5] END .............alpha=1, l1_ratio=0.1;, score=0.817 total time=   0.0s\n",
            "[CV 5/5] END .............alpha=1, l1_ratio=0.1;, score=0.781 total time=   0.0s\n",
            "Bayesian Optimization : \n",
            "===============================\n",
            "Best parameters: OrderedDict([('alpha', 0.0001), ('l1_ratio', 0.1)])\n",
            "Best R2 Score: 0.9118165888820811\n"
          ]
        }
      ]
    },
    {
      "cell_type": "markdown",
      "source": [
        "## Cross Validation\n",
        "<img src=\"https://www.researchgate.net/publication/379225334/figure/fig4/AS:11431281231107294@1711249957845/Schematic-representation-of-k-fold-cross-validation-technique-for-hyperparameter-tuning.png\" width=\"400\"/>"
      ],
      "metadata": {
        "id": "oGafauTLz9TU"
      }
    },
    {
      "cell_type": "code",
      "source": [
        "alphas = [1e-4,1e-3,1e-2,0.1,0.2,0.3,0.4,0.5,0.6,0.7,0.8,0.9,1]\n",
        "l1_ratios = [0.1,0.2,0.3,0.4,0.5,0.6,0.7,0.8]\n",
        "\n",
        "params_dict = [{'alpha': alpha, 'l1_ratio': l1_ratio} for alpha in alphas for l1_ratio in l1_ratios]\n",
        "\n",
        "models = [ElasticNet(alpha=params['alpha'], l1_ratio=params['l1_ratio']) for params in params_dict]\n",
        "# models = [ElasticNet(**params) for params in param_grid]\n",
        "\n",
        "cv_scores = [cross_val_score(model, X_train, y_train, cv=5, scoring='r2').mean() for model in models]\n",
        "\n",
        "best_model_index = np.argmax(cv_scores)\n",
        "best_model_params = params_dict[best_model_index]\n",
        "print(\"cross_val_score : \\n===============================\")\n",
        "print(\"Best Parameters:\", best_model_params)\n",
        "print(\"Best R2 Score:\", cv_scores[best_model_index])"
      ],
      "metadata": {
        "id": "jg5JoA9E0oM_",
        "colab": {
          "base_uri": "https://localhost:8080/"
        },
        "outputId": "3129b42c-5df3-407a-fc2d-3fe279b492bd"
      },
      "execution_count": 24,
      "outputs": [
        {
          "output_type": "stream",
          "name": "stdout",
          "text": [
            "cross_val_score : \n",
            "===============================\n",
            "Best Parameters: {'alpha': 0.01, 'l1_ratio': 0.1}\n",
            "Best R2 Score: 0.9127508410382201\n"
          ]
        }
      ]
    }
  ]
}