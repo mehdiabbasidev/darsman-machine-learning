{
  "nbformat": 4,
  "nbformat_minor": 0,
  "metadata": {
    "colab": {
      "provenance": [],
      "collapsed_sections": [
        "I2qc6q8eul_U"
      ],
      "authorship_tag": "ABX9TyNyxlYYJzNF12m3fUH3QdqK",
      "include_colab_link": true
    },
    "kernelspec": {
      "name": "python3",
      "display_name": "Python 3"
    },
    "language_info": {
      "name": "python"
    }
  },
  "cells": [
    {
      "cell_type": "markdown",
      "metadata": {
        "id": "view-in-github",
        "colab_type": "text"
      },
      "source": [
        "<a href=\"https://colab.research.google.com/github/mehdiabbasidev/darsman-machine-learning/blob/main/ElasticNet_Ridge_Lasso_Regression.ipynb\" target=\"_parent\"><img src=\"https://colab.research.google.com/assets/colab-badge.svg\" alt=\"Open In Colab\"/></a>"
      ]
    },
    {
      "cell_type": "markdown",
      "source": [
        "## Data set download link:\n"
      ],
      "metadata": {
        "id": "yi1LpLXct786"
      }
    },
    {
      "cell_type": "markdown",
      "source": [
        "## auto-mpg : داده ها مشخصات فنی خودروها است\n",
        "* mpg:  مایل با هر گالن\n",
        "* cylinders: تعداد سیلندرها\n",
        "* displacement: جابجایی\n",
        "* horsepower: اسب بخار\n",
        "* weight: وزن\n",
        "* acceleration: شتاب\n",
        "* model year: سال مدل\n",
        "* origin: منشأ\n",
        "* car name: نام خودرو"
      ],
      "metadata": {
        "id": "I2qc6q8eul_U"
      }
    },
    {
      "cell_type": "code",
      "execution_count": null,
      "metadata": {
        "id": "WKpQIFmJq0UW",
        "colab": {
          "base_uri": "https://localhost:8080/"
        },
        "outputId": "22b95232-d7d4-4029-ea33-f58fccc1f384"
      },
      "outputs": [
        {
          "output_type": "stream",
          "name": "stdout",
          "text": [
            "Mounted at /content/drive\n"
          ]
        }
      ],
      "source": [
        "from google.colab import drive\n",
        "drive.mount('/content/drive')"
      ]
    },
    {
      "cell_type": "code",
      "source": [
        "import numpy as np\n",
        "import pandas as pd\n",
        "import matplotlib.pyplot as plt\n",
        "from sklearn.linear_model import LinearRegression\n",
        "from sklearn.model_selection import train_test_split\n",
        "from sklearn.metrics import r2_score\n",
        "from sklearn.linear_model import Ridge\n",
        "from sklearn.linear_model import Lasso\n",
        "from sklearn.linear_model import ElasticNet\n",
        "import seaborn as sns\n",
        "from sklearn import preprocessing\n",
        "%matplotlib inline"
      ],
      "metadata": {
        "id": "Gox8udd0rM5H"
      },
      "execution_count": null,
      "outputs": []
    },
    {
      "cell_type": "code",
      "source": [
        "df = pd.read_csv(\"/content/drive/MyDrive/datasets/auto-mpg.csv\")\n",
        "df.head()"
      ],
      "metadata": {
        "id": "Eu-jB9sqtSS6"
      },
      "execution_count": null,
      "outputs": []
    },
    {
      "cell_type": "code",
      "source": [
        "df.head()\n",
        "df.shape\n",
        "df.columns\n",
        "df.dtypes\n",
        "df.duplicated().sum()\n",
        "df.nunique()\n",
        "df.cylinders.nunique()\n",
        "df.info()\n",
        "df.describe()\n",
        "df.isnull().sum()\n",
        "df.corr(numeric_only=True)\n",
        "df['cylinders'].value_counts()\n",
        "df['origin'].value_counts().to_frame()\n",
        "(df['horsepower'].str.isnumeric()==False).sum()\n",
        "(df['horsepower']=='?').sum()\n",
        "(df=='?').sum()\n",
        "df[df['horsepower']=='?']\n",
        "\n",
        "df[df['origin']==1].shape\n",
        "df[df['origin']==2].shape\n",
        "df[df['origin']==3].shape"
      ],
      "metadata": {
        "id": "p4NgT_mAuEoK"
      },
      "execution_count": null,
      "outputs": []
    },
    {
      "cell_type": "markdown",
      "source": [
        "### Data Cleaning"
      ],
      "metadata": {
        "id": "FZU-0t3SBAfY"
      }
    },
    {
      "cell_type": "code",
      "source": [
        "df=df.replace('?',np.nan)"
      ],
      "metadata": {
        "id": "IhBcexne06hx"
      },
      "execution_count": null,
      "outputs": []
    },
    {
      "cell_type": "code",
      "source": [
        "df=df.drop('car name',axis=1)\n",
        "df.head()"
      ],
      "metadata": {
        "id": "JfUOFsDhuIS5"
      },
      "execution_count": null,
      "outputs": []
    },
    {
      "cell_type": "code",
      "source": [
        "df=df.apply(lambda x: x.fillna(x.median()),axis=0)"
      ],
      "metadata": {
        "id": "g9KT_E-HmOZT"
      },
      "execution_count": null,
      "outputs": []
    },
    {
      "cell_type": "code",
      "source": [
        "df[\"horsepower\"] = df[\"horsepower\"].astype(int)\n",
        "df.dtypes"
      ],
      "metadata": {
        "id": "mCR83N5l-QY4"
      },
      "execution_count": null,
      "outputs": []
    },
    {
      "cell_type": "markdown",
      "source": [
        "### Data Visualization"
      ],
      "metadata": {
        "id": "jxipx8h17KKR"
      }
    },
    {
      "cell_type": "code",
      "source": [
        "plt.figure(figsize=(15,8))\n",
        "corr = df.corr()\n",
        "mask = np.triu(corr)\n",
        "sns.heatmap(corr,square=True, mask= mask, annot= True, fmt = '.2f')\n",
        "plt.show()"
      ],
      "metadata": {
        "id": "NiWlM-xH7UTB"
      },
      "execution_count": null,
      "outputs": []
    },
    {
      "cell_type": "code",
      "source": [
        "plt.figure(figsize=(10,5))\n",
        "ax = sns.countplot(data = df,x = 'origin')\n",
        "ax.bar_label(ax.containers[0], label_type='edge')\n",
        "plt.title(\"origin distribution\")\n",
        "plt.xlabel(\"Origin\")\n",
        "plt.ylabel(\"Car count\")\n",
        "plt.show()"
      ],
      "metadata": {
        "id": "30BM1P4Z_f43"
      },
      "execution_count": null,
      "outputs": []
    },
    {
      "cell_type": "code",
      "source": [
        "plt.figure(figsize=(10,5))\n",
        "sns.pointplot(x = 'model year', y = 'mpg', hue = 'origin', data = df, errorbar=None);\n",
        "plt.title(\"model year - mpg based on origin\")\n",
        "plt.xlabel(\"model year\")\n",
        "plt.ylabel(\"mpg\")\n",
        "plt.show()"
      ],
      "metadata": {
        "id": "nvLuEnXp_9vI"
      },
      "execution_count": null,
      "outputs": []
    },
    {
      "cell_type": "code",
      "source": [
        "plt.figure(figsize=(10,5))\n",
        "plt.xlabel(\"year\", fontsize = 15)\n",
        "plt.ylabel(\"mpg\", fontsize = 15)\n",
        "sns.lineplot(x = 'model year', y = 'mpg', data = df);"
      ],
      "metadata": {
        "id": "7AamU5ZO8IDI"
      },
      "execution_count": null,
      "outputs": []
    },
    {
      "cell_type": "code",
      "source": [
        "ax = sns.countplot(x = 'cylinders', data = df, color = '#4287f5')\n",
        "ax.bar_label(ax.containers[0], label_type='edge')\n",
        "plt.xlabel(\"cylinder\", fontsize = 15)\n",
        "plt.ylabel(\"cars count\", fontsize = 15)\n",
        "plt.show()"
      ],
      "metadata": {
        "id": "V5Qfz76_84nn"
      },
      "execution_count": null,
      "outputs": []
    },
    {
      "cell_type": "code",
      "source": [
        "sns.scatterplot(x = 'horsepower',y = 'mpg',  data = df)\n",
        "plt.title(\"horsepower - mpg\")\n",
        "plt.xlabel(\"horsepower\")\n",
        "plt.ylabel(\"mpg\")\n",
        "plt.show()"
      ],
      "metadata": {
        "id": "4DpoB7zZ9YYH"
      },
      "execution_count": null,
      "outputs": []
    },
    {
      "cell_type": "markdown",
      "source": [
        "### Create Model"
      ],
      "metadata": {
        "id": "yeUifKK38D4w"
      }
    },
    {
      "cell_type": "code",
      "source": [
        "X = df.drop('mpg', axis=1)\n",
        "y = df[['mpg']]\n",
        "X.shape\n",
        "y.shape"
      ],
      "metadata": {
        "id": "3IivqdjWxVjJ"
      },
      "execution_count": null,
      "outputs": []
    },
    {
      "cell_type": "code",
      "source": [
        "X_train, X_test, y_train, y_test = train_test_split(X, y, test_size=0.2, random_state=1)"
      ],
      "metadata": {
        "id": "lAsuUCeW1xa4"
      },
      "execution_count": null,
      "outputs": []
    },
    {
      "cell_type": "code",
      "source": [
        "ridge = Ridge(alpha=0.2)\n",
        "ridge.fit(X_train,y_train)"
      ],
      "metadata": {
        "id": "soLHT44vqelW"
      },
      "execution_count": null,
      "outputs": []
    },
    {
      "cell_type": "code",
      "source": [
        "lasso = Lasso(alpha=0.5)\n",
        "lasso.fit(X_train,y_train)"
      ],
      "metadata": {
        "id": "O3tF9WFMq_Gn"
      },
      "execution_count": null,
      "outputs": []
    },
    {
      "cell_type": "code",
      "source": [
        "elastic = ElasticNet(alpha=0.5,l1_ratio=0.1)\n",
        "elastic.fit(X_train,y_train)"
      ],
      "metadata": {
        "id": "ijNUH8eJI_o8"
      },
      "execution_count": null,
      "outputs": []
    },
    {
      "cell_type": "code",
      "source": [
        "print(ridge.score(X_train, y_train))\n",
        "print(ridge.score(X_test, y_test))"
      ],
      "metadata": {
        "id": "T6njdFOKrOlM"
      },
      "execution_count": null,
      "outputs": []
    },
    {
      "cell_type": "code",
      "source": [
        "print(lasso.score(X_train, y_train))\n",
        "print(lasso.score(X_test, y_test))"
      ],
      "metadata": {
        "id": "J8v46Te1rVWM"
      },
      "execution_count": null,
      "outputs": []
    },
    {
      "cell_type": "code",
      "source": [
        "print(elastic.score(X_train, y_train))\n",
        "print(elastic.score(X_test, y_test))"
      ],
      "metadata": {
        "id": "tZMNav0AJZ8j"
      },
      "execution_count": null,
      "outputs": []
    }
  ]
}