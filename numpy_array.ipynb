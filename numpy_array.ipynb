{
  "nbformat": 4,
  "nbformat_minor": 0,
  "metadata": {
    "colab": {
      "provenance": [],
      "authorship_tag": "ABX9TyM4LgvC0xNX9PxVjXYgUjH9",
      "include_colab_link": true
    },
    "kernelspec": {
      "name": "python3",
      "display_name": "Python 3"
    },
    "language_info": {
      "name": "python"
    }
  },
  "cells": [
    {
      "cell_type": "markdown",
      "metadata": {
        "id": "view-in-github",
        "colab_type": "text"
      },
      "source": [
        "<a href=\"https://colab.research.google.com/github/mehdiabbasidev/darsman-machine-learning/blob/main/numpy_array.ipynb\" target=\"_parent\"><img src=\"https://colab.research.google.com/assets/colab-badge.svg\" alt=\"Open In Colab\"/></a>"
      ]
    },
    {
      "cell_type": "code",
      "execution_count": null,
      "metadata": {
        "id": "e7BlmhWchZjb"
      },
      "outputs": [],
      "source": [
        "import numpy as np"
      ]
    },
    {
      "cell_type": "code",
      "source": [
        "# array=np.array([1, 2, 3])\n",
        "# array=np.array(['mehdi','ali','reza'])\n",
        "# array=np.array([1, 2, 3,'mehdi'])\n",
        "array=np.array(range(20))\n",
        "array.dtype\n",
        "array.ndim\n",
        "array.shape\n",
        "array.size\n",
        "array=np.array([[1,2,3],[10,20,30],[-1,-2,-3],[0,10,100]])\n",
        "array.ndim\n",
        "array.shape\n",
        "array.size\n",
        "\n"
      ],
      "metadata": {
        "id": "l9ZJSZIxh0m7",
        "colab": {
          "base_uri": "https://localhost:8080/"
        },
        "outputId": "7a08b71d-0ed6-417c-9e5a-171a541eaa7e"
      },
      "execution_count": null,
      "outputs": [
        {
          "output_type": "execute_result",
          "data": {
            "text/plain": [
              "12"
            ]
          },
          "metadata": {},
          "execution_count": 18
        }
      ]
    }
  ]
}