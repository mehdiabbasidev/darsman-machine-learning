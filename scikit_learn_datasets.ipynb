{
  "nbformat": 4,
  "nbformat_minor": 0,
  "metadata": {
    "colab": {
      "provenance": [],
      "authorship_tag": "ABX9TyNNFQZ4hsO7xm/QMjH/H/VD",
      "include_colab_link": true
    },
    "kernelspec": {
      "name": "python3",
      "display_name": "Python 3"
    },
    "language_info": {
      "name": "python"
    }
  },
  "cells": [
    {
      "cell_type": "markdown",
      "metadata": {
        "id": "view-in-github",
        "colab_type": "text"
      },
      "source": [
        "<a href=\"https://colab.research.google.com/github/mehdiabbasidev/darsman-machine-learning/blob/main/scikit_learn_datasets.ipynb\" target=\"_parent\"><img src=\"https://colab.research.google.com/assets/colab-badge.svg\" alt=\"Open In Colab\"/></a>"
      ]
    },
    {
      "cell_type": "code",
      "source": [
        "# from sklearn import datasets\n",
        "from sklearn.datasets import load_iris\n",
        "from sklearn.datasets import fetch_california_housing\n",
        "from sklearn.datasets import make_regression"
      ],
      "metadata": {
        "id": "9rtsc-_REIWQ"
      },
      "execution_count": null,
      "outputs": []
    },
    {
      "cell_type": "code",
      "source": [
        "ds_iris=load_iris()\n",
        "ds_california_housting=fetch_california_housing()\n",
        "X,y=make_regression(n_samples=20, n_features=3, noise=0.1)\n",
        "\n",
        "# print(f\"Iris Dataset : {ds_iris}\")\n",
        "# print(100*\"*\")\n",
        "# print(f\"California Housting Dataset : {ds_california_housting}\")\n",
        "# print(100*\"*\")\n",
        "print(f\"Data : \\n{X}\")\n",
        "print(f\"Target : \\n{y}\")"
      ],
      "metadata": {
        "id": "s7vW0JPj2KV9"
      },
      "execution_count": null,
      "outputs": []
    }
  ]
}