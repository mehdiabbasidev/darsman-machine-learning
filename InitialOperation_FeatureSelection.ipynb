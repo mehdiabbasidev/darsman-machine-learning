{
  "nbformat": 4,
  "nbformat_minor": 0,
  "metadata": {
    "colab": {
      "provenance": [],
      "collapsed_sections": [
        "Po-ByUwWBGIK",
        "jy9D-ai_NkNI",
        "h0lxZiTOc7bd",
        "MHfN8eUDhbKR",
        "lKvtJHvB2v8g"
      ],
      "authorship_tag": "ABX9TyMNpsiXF4GtHHokshPCPHGy",
      "include_colab_link": true
    },
    "kernelspec": {
      "name": "python3",
      "display_name": "Python 3"
    },
    "language_info": {
      "name": "python"
    }
  },
  "cells": [
    {
      "cell_type": "markdown",
      "metadata": {
        "id": "view-in-github",
        "colab_type": "text"
      },
      "source": [
        "<a href=\"https://colab.research.google.com/github/mehdiabbasidev/darsman-machine-learning/blob/main/InitialOperation_FeatureSelection.ipynb\" target=\"_parent\"><img src=\"https://colab.research.google.com/assets/colab-badge.svg\" alt=\"Open In Colab\"/></a>"
      ]
    },
    {
      "cell_type": "markdown",
      "source": [
        "### Dataset download link:\n",
        "https://drive.google.com/file/d/1wMqhiBq_GGF_5nYKbbMC2njSSjcLU8YD/view?usp=sharing"
      ],
      "metadata": {
        "id": "bE54Qn7MIjDF"
      }
    },
    {
      "cell_type": "code",
      "execution_count": null,
      "metadata": {
        "id": "jx561mXkA9Mw"
      },
      "outputs": [],
      "source": [
        "from google.colab import drive\n",
        "drive.mount('/content/drive/')"
      ]
    },
    {
      "cell_type": "code",
      "source": [
        "import numpy as np\n",
        "import pandas as pd\n",
        "import matplotlib.pyplot as plt\n",
        "import seaborn as sns\n",
        "from sklearn.model_selection import train_test_split\n",
        "from sklearn.preprocessing import LabelEncoder"
      ],
      "metadata": {
        "id": "FXOOTpexzAgm"
      },
      "execution_count": null,
      "outputs": []
    },
    {
      "cell_type": "code",
      "source": [
        "data = pd.read_csv('/content/drive/MyDrive/datasets/FeatureSelectionDatasets/feature_selection_dataset1.csv')\n",
        "data.head()"
      ],
      "metadata": {
        "id": "_N4iXHmSJEq-"
      },
      "execution_count": null,
      "outputs": []
    },
    {
      "cell_type": "code",
      "source": [
        "data.shape"
      ],
      "metadata": {
        "id": "K3d-LQvR683C"
      },
      "execution_count": null,
      "outputs": []
    },
    {
      "cell_type": "code",
      "source": [
        "data['feature_16'].value_counts()\n",
        "data['feature_17'].value_counts()"
      ],
      "metadata": {
        "id": "ZIcH165Y5DN7"
      },
      "execution_count": null,
      "outputs": []
    },
    {
      "cell_type": "code",
      "source": [
        "features_to_encode = ['feature_16', 'feature_17']\n",
        "le = LabelEncoder()\n",
        "for feature in features_to_encode:\n",
        "    data[feature] = le.fit_transform(data[feature])\n",
        "data.head()"
      ],
      "metadata": {
        "id": "5Yp4dpbe4iZZ"
      },
      "execution_count": null,
      "outputs": []
    },
    {
      "cell_type": "markdown",
      "source": [
        "### Removing constant features"
      ],
      "metadata": {
        "id": "Po-ByUwWBGIK"
      }
    },
    {
      "cell_type": "code",
      "source": [
        "data.shape"
      ],
      "metadata": {
        "id": "_A1WzZhz7EwB"
      },
      "execution_count": null,
      "outputs": []
    },
    {
      "cell_type": "code",
      "source": [
        "data.nunique()"
      ],
      "metadata": {
        "id": "c6gpTf_-JOlB"
      },
      "execution_count": null,
      "outputs": []
    },
    {
      "cell_type": "code",
      "source": [
        "X=data.drop(labels=['target'], axis=1)\n",
        "X.shape"
      ],
      "metadata": {
        "id": "JHEQz3mcKI5J"
      },
      "execution_count": null,
      "outputs": []
    },
    {
      "cell_type": "code",
      "source": [
        "constant_features = [col for col in X.columns if X[col].nunique() <= 1]\n",
        "constant_features"
      ],
      "metadata": {
        "id": "TXAmPSjbK1bm"
      },
      "execution_count": null,
      "outputs": []
    },
    {
      "cell_type": "code",
      "source": [
        "data=data.drop(labels=constant_features, axis=1)\n",
        "data.head()"
      ],
      "metadata": {
        "id": "FeeHCFPZMWyl"
      },
      "execution_count": null,
      "outputs": []
    },
    {
      "cell_type": "markdown",
      "source": [
        "### Remove quasi-constant features\n"
      ],
      "metadata": {
        "id": "jy9D-ai_NkNI"
      }
    },
    {
      "cell_type": "code",
      "source": [
        "data.shape"
      ],
      "metadata": {
        "id": "okZm8vPzNCgE"
      },
      "execution_count": null,
      "outputs": []
    },
    {
      "cell_type": "code",
      "source": [
        "data.dtypes"
      ],
      "metadata": {
        "id": "75ZPxTnTRewy"
      },
      "execution_count": null,
      "outputs": []
    },
    {
      "cell_type": "code",
      "source": [
        "X=data.drop(labels=['target'], axis=1)\n",
        "X.shape"
      ],
      "metadata": {
        "id": "SCfkd-jVRxso"
      },
      "execution_count": null,
      "outputs": []
    },
    {
      "cell_type": "code",
      "source": [
        "quasi_constants = []\n",
        "for col in X.columns:\n",
        "    feature_freq= X[col].value_counts(normalize=True).sort_values(ascending=False).values[0]\n",
        "    # print(feature_freq)\n",
        "    if feature_freq > 0.990:\n",
        "        quasi_constants.append(col)\n",
        "quasi_constants"
      ],
      "metadata": {
        "id": "4vdBBYgjQfRL"
      },
      "execution_count": null,
      "outputs": []
    },
    {
      "cell_type": "code",
      "source": [
        "data=data.drop(labels=quasi_constants, axis=1)\n",
        "data.head()"
      ],
      "metadata": {
        "id": "CgLFcYhWbGzI"
      },
      "execution_count": null,
      "outputs": []
    },
    {
      "cell_type": "markdown",
      "source": [
        "### Remove duplicated features"
      ],
      "metadata": {
        "id": "h0lxZiTOc7bd"
      }
    },
    {
      "cell_type": "code",
      "source": [
        "data.shape"
      ],
      "metadata": {
        "id": "gw5TpQTe7mqD"
      },
      "execution_count": null,
      "outputs": []
    },
    {
      "cell_type": "code",
      "source": [
        "X=data.drop(['target'],axis=1)\n",
        "X.shape"
      ],
      "metadata": {
        "id": "Z3sf4yATd_BC"
      },
      "execution_count": null,
      "outputs": []
    },
    {
      "cell_type": "code",
      "source": [
        "duplicate_columns = []\n",
        "for i in range(len(X.columns)):\n",
        "    col1 = X.columns[i]\n",
        "    for j in range(i + 1, len(X.columns)):\n",
        "        col2 = X.columns[j]\n",
        "        if X[col1].equals(X[col2]):\n",
        "            duplicate_columns.append(col2)\n",
        "duplicate_columns"
      ],
      "metadata": {
        "id": "f-PWg6bpd4cQ"
      },
      "execution_count": null,
      "outputs": []
    },
    {
      "cell_type": "code",
      "source": [
        "data=data.drop(labels=duplicate_columns, axis=1)\n",
        "data.head()"
      ],
      "metadata": {
        "id": "3v7ckmDHghTD"
      },
      "execution_count": null,
      "outputs": []
    },
    {
      "cell_type": "code",
      "source": [
        "data.to_csv('out.csv', index=False)"
      ],
      "metadata": {
        "id": "zCF--KLPOe_5"
      },
      "execution_count": null,
      "outputs": []
    },
    {
      "cell_type": "markdown",
      "source": [
        "### Remove features with high correlation"
      ],
      "metadata": {
        "id": "MHfN8eUDhbKR"
      }
    },
    {
      "cell_type": "code",
      "source": [
        "data.shape"
      ],
      "metadata": {
        "id": "oAIGYNp07yof"
      },
      "execution_count": null,
      "outputs": []
    },
    {
      "cell_type": "code",
      "source": [
        "X=data.drop(['target'],axis=1)\n",
        "X.shape"
      ],
      "metadata": {
        "id": "_D6TRnmx6q-R"
      },
      "execution_count": null,
      "outputs": []
    },
    {
      "cell_type": "code",
      "source": [
        "corrmat = X.corr(method='pearson')\n",
        "cmap = sns.diverging_palette(220, 20, as_cmap=True)\n",
        "fig, ax = plt.subplots()\n",
        "fig.set_size_inches(8,8)\n",
        "sns.heatmap(corrmat, cmap=cmap)"
      ],
      "metadata": {
        "id": "8V9GRuKRm9bJ"
      },
      "execution_count": null,
      "outputs": []
    },
    {
      "cell_type": "code",
      "source": [
        "corr_matrix = X.corr().abs()\n",
        "print(corr_matrix)"
      ],
      "metadata": {
        "id": "KRXrE39V8HmL"
      },
      "execution_count": null,
      "outputs": []
    },
    {
      "cell_type": "code",
      "source": [
        "upper = corr_matrix.where(np.triu(np.ones(corr_matrix.shape), k=1).astype(bool))\n",
        "corr_columns = [column for column in upper.columns if any(upper[column] > 0.9)]\n",
        "corr_columns"
      ],
      "metadata": {
        "id": "sxOE70oDvJLF"
      },
      "execution_count": null,
      "outputs": []
    },
    {
      "cell_type": "code",
      "source": [
        "data=data.drop(labels=corr_columns, axis=1)\n",
        "data.head()"
      ],
      "metadata": {
        "id": "ApjXdhBRyrwx"
      },
      "execution_count": null,
      "outputs": []
    },
    {
      "cell_type": "markdown",
      "source": [
        "### Select features with high Mutual Informaion"
      ],
      "metadata": {
        "id": "lKvtJHvB2v8g"
      }
    },
    {
      "cell_type": "code",
      "source": [
        "data.shape"
      ],
      "metadata": {
        "id": "AmpX-L_KDT_d"
      },
      "execution_count": null,
      "outputs": []
    },
    {
      "cell_type": "code",
      "source": [
        "from sklearn.feature_selection import SelectKBest, mutual_info_classif\n",
        "\n",
        "X = data.drop('target', axis=1)\n",
        "y = data['target']\n",
        "\n",
        "if (X < 0).any().any():\n",
        "    X = X + abs(X.min().min())\n",
        "\n",
        "selector = SelectKBest(score_func=mutual_info_classif, k=5)\n",
        "selector.fit(X, y)\n",
        "selected_features = selector.get_support(indices=True)\n",
        "selected_feature_names = X.columns[selected_features]\n",
        "\n",
        "print(\"Selected features:\", selected_feature_names)\n",
        "\n",
        "X_selected = X[selected_feature_names]\n",
        "X_selected"
      ],
      "metadata": {
        "id": "7xX4480-DI_T"
      },
      "execution_count": null,
      "outputs": []
    }
  ]
}