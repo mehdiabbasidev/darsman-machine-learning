{
  "nbformat": 4,
  "nbformat_minor": 0,
  "metadata": {
    "colab": {
      "provenance": [],
      "collapsed_sections": [
        "63Fcg1IeklCb"
      ],
      "authorship_tag": "ABX9TyOeExTseRPqpyNkNUQXuBmZ",
      "include_colab_link": true
    },
    "kernelspec": {
      "name": "python3",
      "display_name": "Python 3"
    },
    "language_info": {
      "name": "python"
    }
  },
  "cells": [
    {
      "cell_type": "markdown",
      "metadata": {
        "id": "view-in-github",
        "colab_type": "text"
      },
      "source": [
        "<a href=\"https://colab.research.google.com/github/mehdiabbasidev/darsman-machine-learning/blob/main/Logistic_Regression.ipynb\" target=\"_parent\"><img src=\"https://colab.research.google.com/assets/colab-badge.svg\" alt=\"Open In Colab\"/></a>"
      ]
    },
    {
      "cell_type": "code",
      "source": [
        "from google.colab import drive\n",
        "drive.mount('/content/drive/')"
      ],
      "metadata": {
        "id": "raUZiuRuWrAE"
      },
      "execution_count": null,
      "outputs": []
    },
    {
      "cell_type": "markdown",
      "source": [
        "## Binary Classification (Nomial Classification)"
      ],
      "metadata": {
        "id": "63Fcg1IeklCb"
      }
    },
    {
      "cell_type": "code",
      "source": [
        "import pandas as pd\n",
        "import matplotlib.pyplot as plt\n",
        "import numpy as np\n",
        "import math\n",
        "from sklearn.datasets import load_iris\n",
        "from sklearn.linear_model import LogisticRegression\n",
        "from sklearn.model_selection import train_test_split\n",
        "from sklearn.metrics import accuracy_score,confusion_matrix,classification_report,recall_score,precision_score,f1_score\n",
        "%matplotlib inline"
      ],
      "metadata": {
        "id": "okhdSsArGjZi"
      },
      "execution_count": null,
      "outputs": []
    },
    {
      "cell_type": "code",
      "source": [
        "df = pd.read_csv('/content/drive/MyDrive/datasets/dataset_LR.csv')\n",
        "df.shape"
      ],
      "metadata": {
        "id": "0rWyixSyXBI-"
      },
      "execution_count": null,
      "outputs": []
    },
    {
      "cell_type": "code",
      "source": [
        "df.head()\n",
        "df.columns\n",
        "df.dtypes\n",
        "df.nunique()"
      ],
      "metadata": {
        "id": "UYsTzv4nhrlY"
      },
      "execution_count": null,
      "outputs": []
    },
    {
      "cell_type": "code",
      "source": [
        "df = df.sample(frac=1)\n",
        "df.shape"
      ],
      "metadata": {
        "id": "tZBiOZu1XOna"
      },
      "execution_count": null,
      "outputs": []
    },
    {
      "cell_type": "code",
      "source": [
        "X = df.drop('traget', axis=1)\n",
        "y = df[['traget']]\n",
        "X.shape , y.shape"
      ],
      "metadata": {
        "id": "_yVnBUvIhkdK"
      },
      "execution_count": null,
      "outputs": []
    },
    {
      "cell_type": "code",
      "source": [
        "X_train, X_test, y_train, y_test = train_test_split(X, y, test_size=0.2, random_state=1)"
      ],
      "metadata": {
        "id": "v8Eir0TEHagm"
      },
      "execution_count": null,
      "outputs": []
    },
    {
      "cell_type": "code",
      "source": [
        "LR_classifier = LogisticRegression()\n",
        "LR_classifier.fit(X_train, y_train)"
      ],
      "metadata": {
        "id": "IvOps_e8YzQW"
      },
      "execution_count": null,
      "outputs": []
    },
    {
      "cell_type": "code",
      "source": [
        "y_pred = LR_classifier.predict(X_test)"
      ],
      "metadata": {
        "id": "apgFq9UsY3Nl"
      },
      "execution_count": null,
      "outputs": []
    },
    {
      "cell_type": "code",
      "source": [
        "confusion_matrix = confusion_matrix(y_test, y_pred)\n",
        "print(confusion_matrix)"
      ],
      "metadata": {
        "id": "IDKJYrdeJ_P9"
      },
      "execution_count": null,
      "outputs": []
    },
    {
      "cell_type": "code",
      "source": [
        "accuracy_score=accuracy_score(y_test, y_pred)\n",
        "accuracy_score"
      ],
      "metadata": {
        "id": "trDJWyqgMOyk"
      },
      "execution_count": null,
      "outputs": []
    },
    {
      "cell_type": "code",
      "source": [
        "recall_score=recall_score(y_test, y_pred)\n",
        "recall_score"
      ],
      "metadata": {
        "id": "aTDW-61vMOsQ"
      },
      "execution_count": null,
      "outputs": []
    },
    {
      "cell_type": "code",
      "source": [
        "from sklearn.metrics import precision_score\n",
        "precision_score=precision_score(y_test, y_pred)\n",
        "precision_score"
      ],
      "metadata": {
        "id": "BGf2JXufMOk0"
      },
      "execution_count": null,
      "outputs": []
    },
    {
      "cell_type": "code",
      "source": [
        "f1_score=f1_score(y_test, y_pred)\n",
        "f1_score"
      ],
      "metadata": {
        "id": "YXKLPXDvMOde"
      },
      "execution_count": null,
      "outputs": []
    },
    {
      "cell_type": "code",
      "source": [
        "classification_report=classification_report(y_test, y_pred)\n",
        "print(classification_report)"
      ],
      "metadata": {
        "id": "MHQx_5G2MCD-"
      },
      "execution_count": null,
      "outputs": []
    },
    {
      "cell_type": "markdown",
      "source": [
        "## Multiclass Classification (MultiNomial Classification)\n",
        "\n",
        "> Add blockquote\n",
        "\n"
      ],
      "metadata": {
        "id": "ZryNH7clTQoB"
      }
    },
    {
      "cell_type": "code",
      "source": [
        "import pandas as pd\n",
        "import matplotlib.pyplot as plt\n",
        "import numpy as np\n",
        "import seaborn as sns\n",
        "from sklearn.datasets import load_iris\n",
        "from sklearn.linear_model import LogisticRegression\n",
        "from sklearn.model_selection import train_test_split, cross_validate\n",
        "from sklearn.metrics import accuracy_score,confusion_matrix,classification_report,recall_score,precision_score,f1_score\n",
        "%matplotlib inline"
      ],
      "metadata": {
        "id": "hOiUxVByTVnI"
      },
      "execution_count": null,
      "outputs": []
    },
    {
      "cell_type": "code",
      "source": [
        "iris_ds=load_iris()\n"
      ],
      "metadata": {
        "id": "F-3ZUy6XGGtm"
      },
      "execution_count": null,
      "outputs": []
    },
    {
      "cell_type": "code",
      "source": [
        "df = pd.DataFrame(data= np.c_[iris_ds['data'], iris_ds['target']],\n",
        "                     columns= iris_ds['feature_names'] + ['Species'])\n",
        "df"
      ],
      "metadata": {
        "id": "j1zXWEFnGnBI"
      },
      "execution_count": null,
      "outputs": []
    },
    {
      "cell_type": "code",
      "source": [
        "X = df.drop(['Species'], axis=1)\n",
        "y = df['Species']\n",
        "X.shape , y.shape"
      ],
      "metadata": {
        "id": "UXfa3E5qLMXQ"
      },
      "execution_count": null,
      "outputs": []
    },
    {
      "cell_type": "code",
      "source": [
        "X_train, X_test, y_train, y_test = train_test_split(X, y, test_size=0.2, random_state=42)"
      ],
      "metadata": {
        "id": "DfyoCwn3LgPO"
      },
      "execution_count": null,
      "outputs": []
    },
    {
      "cell_type": "code",
      "source": [
        "LR_classifier_iris = LogisticRegression()\n",
        "LR_classifier_iris.fit(X_train, y_train)"
      ],
      "metadata": {
        "id": "1WUfme2YLXva"
      },
      "execution_count": null,
      "outputs": []
    },
    {
      "cell_type": "code",
      "source": [
        "y_pred = LR_classifier_iris.predict(X_test)"
      ],
      "metadata": {
        "id": "HSw8z9YpM39M"
      },
      "execution_count": null,
      "outputs": []
    },
    {
      "cell_type": "code",
      "source": [
        "from sklearn.metrics import accuracy_score,confusion_matrix,classification_report,recall_score,precision_score,f1_score\n",
        "confusion_matrix = confusion_matrix(y_test, y_pred)\n",
        "print(confusion_matrix)"
      ],
      "metadata": {
        "id": "ZEZwmGkKOly8"
      },
      "execution_count": null,
      "outputs": []
    },
    {
      "cell_type": "code",
      "source": [
        "accuracy_score=accuracy_score(y_test, y_pred)\n",
        "accuracy_score"
      ],
      "metadata": {
        "id": "ApMKVj0BOlvw"
      },
      "execution_count": null,
      "outputs": []
    },
    {
      "cell_type": "code",
      "source": [
        "recall_score=recall_score(y_test, y_pred,average='micro')\n",
        "recall_score"
      ],
      "metadata": {
        "id": "qj7FR_c4OlrT"
      },
      "execution_count": null,
      "outputs": []
    },
    {
      "cell_type": "code",
      "source": [
        "precision_score=precision_score(y_test, y_pred,average='micro')\n",
        "precision_score"
      ],
      "metadata": {
        "id": "IUe0eADxOln9"
      },
      "execution_count": null,
      "outputs": []
    },
    {
      "cell_type": "code",
      "source": [
        "f1_score=f1_score(y_test, y_pred,average='micro')\n",
        "f1_score"
      ],
      "metadata": {
        "id": "DZMuA5K5Olk9"
      },
      "execution_count": null,
      "outputs": []
    },
    {
      "cell_type": "code",
      "source": [
        "classification_report=classification_report(y_test, y_pred)\n",
        "print(classification_report)"
      ],
      "metadata": {
        "id": "7Te7_4E8PjSi"
      },
      "execution_count": null,
      "outputs": []
    },
    {
      "cell_type": "code",
      "source": [
        "pd.crosstab(y_train,y)"
      ],
      "metadata": {
        "id": "t3t5_58PQRZ0"
      },
      "execution_count": null,
      "outputs": []
    },
    {
      "cell_type": "code",
      "source": [
        "pd.crosstab(y_test,y)"
      ],
      "metadata": {
        "id": "nxDV_X-rQCmW"
      },
      "execution_count": null,
      "outputs": []
    },
    {
      "cell_type": "code",
      "source": [
        "pd.crosstab(LR_classifier_iris.predict(X),y)"
      ],
      "metadata": {
        "id": "kyybAQKhND0Z"
      },
      "execution_count": null,
      "outputs": []
    }
  ]
}