{
  "nbformat": 4,
  "nbformat_minor": 0,
  "metadata": {
    "colab": {
      "provenance": [],
      "authorship_tag": "ABX9TyM948y3Qqh4umuO4IkKWc3x",
      "include_colab_link": true
    },
    "kernelspec": {
      "name": "python3",
      "display_name": "Python 3"
    },
    "language_info": {
      "name": "python"
    }
  },
  "cells": [
    {
      "cell_type": "markdown",
      "metadata": {
        "id": "view-in-github",
        "colab_type": "text"
      },
      "source": [
        "<a href=\"https://colab.research.google.com/github/mehdiabbasidev/darsman-machine-learning/blob/main/ClusteringEvaluationMetrics.ipynb\" target=\"_parent\"><img src=\"https://colab.research.google.com/assets/colab-badge.svg\" alt=\"Open In Colab\"/></a>"
      ]
    },
    {
      "cell_type": "code",
      "source": [
        "import numpy as np\n",
        "import pandas as pd\n",
        "import matplotlib.pyplot as plt\n",
        "from sklearn.datasets import make_blobs\n",
        "from sklearn.cluster import KMeans\n",
        "from sklearn.metrics import silhouette_score, davies_bouldin_score, adjusted_rand_score, normalized_mutual_info_score"
      ],
      "metadata": {
        "id": "QvjsKfjW-eRe"
      },
      "execution_count": null,
      "outputs": []
    },
    {
      "cell_type": "code",
      "source": [
        "import warnings\n",
        "warnings.filterwarnings('ignore')"
      ],
      "metadata": {
        "id": "82VxvUIv-dnH"
      },
      "execution_count": null,
      "outputs": []
    },
    {
      "cell_type": "code",
      "source": [
        "data, true_labels = make_blobs(n_samples=2000, n_features=5, centers=4, random_state=0)\n",
        "data\n",
        "true_labels"
      ],
      "metadata": {
        "id": "yhZfnyH_-kUd",
        "colab": {
          "base_uri": "https://localhost:8080/"
        },
        "outputId": "e44d5f59-f897-4006-a909-40b246e8e60e"
      },
      "execution_count": null,
      "outputs": [
        {
          "output_type": "execute_result",
          "data": {
            "text/plain": [
              "array([2, 3, 3, ..., 0, 2, 3])"
            ]
          },
          "metadata": {},
          "execution_count": 18
        }
      ]
    },
    {
      "cell_type": "code",
      "source": [
        "k = 2\n",
        "kmeans = KMeans(n_clusters=k, init='k-means++', random_state=42)\n",
        "predicted_labels = kmeans.fit_predict(data)"
      ],
      "metadata": {
        "id": "gWQmIRI3-mvh"
      },
      "execution_count": null,
      "outputs": []
    },
    {
      "cell_type": "code",
      "source": [
        "inertia = kmeans.inertia_                                                   # (0 ... inf)\n",
        "print(f'Inertia: {inertia}')"
      ],
      "metadata": {
        "id": "W7GI1S72-qZp",
        "colab": {
          "base_uri": "https://localhost:8080/"
        },
        "outputId": "d75e8fa8-92de-468e-85fd-8f989bfbf80b"
      },
      "execution_count": null,
      "outputs": [
        {
          "output_type": "stream",
          "name": "stdout",
          "text": [
            "Inertia: 72768.7102636662\n"
          ]
        }
      ]
    },
    {
      "cell_type": "code",
      "source": [
        "sil_score = silhouette_score(data, predicted_labels)                        # (-1 ... +1)\n",
        "print(f'Silhouette Score: {sil_score}')"
      ],
      "metadata": {
        "id": "sruX5dGb-rpt",
        "colab": {
          "base_uri": "https://localhost:8080/"
        },
        "outputId": "3f6e6385-e39d-4e45-d595-fbda86fc6b3f"
      },
      "execution_count": null,
      "outputs": [
        {
          "output_type": "stream",
          "name": "stdout",
          "text": [
            "Silhouette Score: 0.6472163370110391\n"
          ]
        }
      ]
    },
    {
      "cell_type": "code",
      "source": [
        "db_score = davies_bouldin_score(data, predicted_labels)                     # (0 ... inf)\n",
        "print(f'Davies-Bouldin Index: {db_score}')"
      ],
      "metadata": {
        "id": "-FBEnpIo-tDV",
        "colab": {
          "base_uri": "https://localhost:8080/"
        },
        "outputId": "fa1bee01-fa4e-4805-afa5-84ee616ebc13"
      },
      "execution_count": null,
      "outputs": [
        {
          "output_type": "stream",
          "name": "stdout",
          "text": [
            "Davies-Bouldin Index: 0.445113603722523\n"
          ]
        }
      ]
    },
    {
      "cell_type": "code",
      "source": [
        "ari_score = adjusted_rand_score(true_labels, predicted_labels)              # (-1 ... +1)\n",
        "print(f'Adjusted Rand Index: {ari_score}')"
      ],
      "metadata": {
        "id": "et2Tuh6n-uNT",
        "colab": {
          "base_uri": "https://localhost:8080/"
        },
        "outputId": "3e63d153-d239-4171-aa42-e15bb811e989"
      },
      "execution_count": null,
      "outputs": [
        {
          "output_type": "stream",
          "name": "stdout",
          "text": [
            "Adjusted Rand Index: 0.33299966633299966\n"
          ]
        }
      ]
    },
    {
      "cell_type": "code",
      "source": [
        "nmi_score = normalized_mutual_info_score(true_labels, predicted_labels)     # (0 ... +1)\n",
        "print(f'Normalized Mutual Information: {nmi_score}')"
      ],
      "metadata": {
        "id": "1Ip1VRrq-vbL",
        "colab": {
          "base_uri": "https://localhost:8080/"
        },
        "outputId": "7ae0e189-7bb4-41d3-ac4e-16424c621a07"
      },
      "execution_count": null,
      "outputs": [
        {
          "output_type": "stream",
          "name": "stdout",
          "text": [
            "Normalized Mutual Information: 0.5771596324111227\n"
          ]
        }
      ]
    }
  ]
}