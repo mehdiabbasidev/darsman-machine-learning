{
  "nbformat": 4,
  "nbformat_minor": 0,
  "metadata": {
    "colab": {
      "provenance": [],
      "collapsed_sections": [
        "BBmBHhF4tWVS"
      ],
      "authorship_tag": "ABX9TyNSi6h7ZXdd0hcx445vEUOT",
      "include_colab_link": true
    },
    "kernelspec": {
      "name": "python3",
      "display_name": "Python 3"
    },
    "language_info": {
      "name": "python"
    }
  },
  "cells": [
    {
      "cell_type": "markdown",
      "metadata": {
        "id": "view-in-github",
        "colab_type": "text"
      },
      "source": [
        "<a href=\"https://colab.research.google.com/github/mehdiabbasidev/darsman-machine-learning/blob/main/FilterMethods_FeatureSelection.ipynb\" target=\"_parent\"><img src=\"https://colab.research.google.com/assets/colab-badge.svg\" alt=\"Open In Colab\"/></a>"
      ]
    },
    {
      "cell_type": "markdown",
      "source": [
        "### Dataset download link:\n",
        "https://drive.google.com/file/d/1HBcBD5CQpTQxVcJtmri29n6bT6awRTxm/view?usp=sharing\n",
        "\n",
        "https://drive.google.com/file/d/16oFcV45yrdmAIpt5UaoLZsJjchxAOMnL/view?usp=sharing\n",
        "\n",
        "https://drive.google.com/file/d/1_O0zWQsAh9luNFqz5DgUQ7pc_FDsMf1z/view?usp=sharing\n",
        "\n",
        "https://drive.google.com/file/d/1_O0zWQsAh9luNFqz5DgUQ7pc_FDsMf1z/view?usp=sharing"
      ],
      "metadata": {
        "id": "UHAVRt3GnSd1"
      }
    },
    {
      "cell_type": "code",
      "source": [
        "from google.colab import drive\n",
        "drive.mount('/content/drive/')"
      ],
      "metadata": {
        "id": "28pCk14MZnVl"
      },
      "execution_count": null,
      "outputs": []
    },
    {
      "cell_type": "code",
      "source": [
        "import numpy as np\n",
        "import pandas as pd\n",
        "import matplotlib.pyplot as plt\n",
        "import seaborn as sns\n",
        "from sklearn.model_selection import train_test_split\n",
        "from sklearn.preprocessing import LabelEncoder"
      ],
      "metadata": {
        "id": "x75VcJ-pyz_n"
      },
      "execution_count": null,
      "outputs": []
    },
    {
      "cell_type": "markdown",
      "source": [
        "### Correlation Coefficient"
      ],
      "metadata": {
        "id": "BBmBHhF4tWVS"
      }
    },
    {
      "cell_type": "code",
      "source": [
        "data=pd.read_csv('/content/drive/MyDrive/datasets/out_initial_feature_selection.csv')\n",
        "data.head()\n",
        "\n",
        "X = data.drop(['target'], axis=1)\n",
        "y = data['target']\n",
        "\n",
        "corrmat = X.corr(method='pearson')\n",
        "cmap = sns.diverging_palette(220, 20, as_cmap=True)\n",
        "fig, ax = plt.subplots()\n",
        "fig.set_size_inches(8,8)\n",
        "sns.heatmap(corrmat, cmap=cmap)\n",
        "\n",
        "corr_matrix = X.corr().abs()\n",
        "corr_matrix\n",
        "\n",
        "upper = corr_matrix.where(np.triu(np.ones(corr_matrix.shape), k=1).astype(bool))\n",
        "corr_columns = [column for column in upper.columns if any(upper[column] > 0.95)]\n",
        "corr_columns\n",
        "\n",
        "remaining_features = [feature for feature in data.columns if feature not in corr_columns]\n",
        "remaining_features"
      ],
      "metadata": {
        "id": "5Qlbg1MTtZd8"
      },
      "execution_count": null,
      "outputs": []
    },
    {
      "cell_type": "markdown",
      "source": [
        "### Mutual Information"
      ],
      "metadata": {
        "id": "pd3ga4Ujo4z9"
      }
    },
    {
      "cell_type": "markdown",
      "source": [
        "#### Classification"
      ],
      "metadata": {
        "id": "cvhj7gBlosQZ"
      }
    },
    {
      "cell_type": "code",
      "execution_count": null,
      "metadata": {
        "id": "xcYOzSq-NNQ5"
      },
      "outputs": [],
      "source": [
        "import numpy as np\n",
        "import pandas as pd\n",
        "import matplotlib.pyplot as plt\n",
        "import seaborn as sns\n",
        "from sklearn.model_selection import train_test_split\n",
        "from sklearn.feature_selection import mutual_info_classif\n",
        "from sklearn.feature_selection import SelectKBest\n",
        "\n",
        "df = pd.read_csv('/content/drive/MyDrive/datasets/wine.csv')\n",
        "df.head()\n",
        "df.shape\n",
        "X=df.drop(labels=['Wine'], axis=1)\n",
        "y=df['Wine']\n",
        "X_train,X_test,y_train,y_test=train_test_split(X,y,test_size=0.3,random_state=0)\n",
        "\n",
        "mutual_info = mutual_info_classif(X_train, y_train)\n",
        "mutual_info\n",
        "\n",
        "mutual_info = pd.Series(mutual_info)\n",
        "mutual_info.index = X_train.columns\n",
        "mutual_info.sort_values(ascending=False)\n",
        "\n",
        "mutual_info.sort_values(ascending=False).plot.bar(figsize=(20, 8))\n",
        "\n",
        "\n",
        "k_best_features = SelectKBest(mutual_info_classif, k=5)\n",
        "k_best_features.fit(X_train, y_train)\n",
        "X_train.columns[k_best_features.get_support()]\n",
        "\n",
        "\n",
        "X_train = k_best_features.transform(X_train.fillna(0))\n",
        "X_train.shape"
      ]
    },
    {
      "cell_type": "markdown",
      "source": [
        "#### Regression"
      ],
      "metadata": {
        "id": "tCjShKyPbpa6"
      }
    },
    {
      "cell_type": "code",
      "source": [
        "import numpy as np\n",
        "import pandas as pd\n",
        "import matplotlib.pyplot as plt\n",
        "import seaborn as sns\n",
        "from sklearn.model_selection import train_test_split\n",
        "from sklearn.feature_selection import mutual_info_regression\n",
        "from sklearn.feature_selection import SelectPercentile\n",
        "\n",
        "\n",
        "df=pd.read_csv('/content/drive/MyDrive/datasets/housing_data.csv')\n",
        "df.head()\n",
        "\n",
        "numerics = ['int16', 'int32','int64', 'float16', 'float32', 'float64']\n",
        "numerical_features = list(df.select_dtypes(include=numerics).columns)\n",
        "\n",
        "data = df[numerical_features]\n",
        "data.head()\n",
        "\n",
        "X = data.drop(['SalePrice'], axis=1)\n",
        "y = data['SalePrice']\n",
        "\n",
        "X_train, X_test, y_train, y_test = train_test_split(X, y, test_size=0.3, random_state=101)\n",
        "X_train.shape, y_train.shape, X_test.shape, y_test.shape\n",
        "\n",
        "mutual_info = mutual_info_regression(X_train.fillna(0), y_train)\n",
        "mutual_info\n",
        "\n",
        "mi_series = pd.Series(mutual_info)\n",
        "mi_series.index = X_train.columns\n",
        "mi_series.sort_values(ascending=False)\n",
        "\n",
        "mi_series.sort_values(ascending=False).plot.bar(figsize=(20,8))\n",
        "\n",
        "k_percentile_features = SelectPercentile(mutual_info_classif, percentile=10).fit(X_train.fillna(0), y_train)\n",
        "k_percentile_features.fit(X_train.fillna(0), y_train)\n",
        "X_train.columns[k_percentile_features.get_support()]\n",
        "\n",
        "X_train = k_percentile_features.transform(X_train.fillna(0))\n",
        "X_train.shape\n"
      ],
      "metadata": {
        "id": "t8gtWDzfs8vf"
      },
      "execution_count": null,
      "outputs": []
    },
    {
      "cell_type": "markdown",
      "source": [
        "### Univariate Feature Selection"
      ],
      "metadata": {
        "id": "P2jlA2__xV76"
      }
    },
    {
      "cell_type": "markdown",
      "source": [
        "#### Classification\n"
      ],
      "metadata": {
        "id": "_IJFXIZdyAyM"
      }
    },
    {
      "cell_type": "code",
      "source": [
        "import numpy as np\n",
        "import pandas as pd\n",
        "import matplotlib.pyplot as plt\n",
        "import seaborn as sns\n",
        "from sklearn.model_selection import train_test_split\n",
        "from sklearn.feature_selection import f_classif\n",
        "from sklearn.feature_selection import SelectKBest\n",
        "\n",
        "df = pd.read_csv('/content/drive/MyDrive/datasets/paribas.csv')\n",
        "df.head()\n",
        "\n",
        "numerics = ['int16', 'int32','int64', 'float16', 'float32', 'float64']\n",
        "numerical_features = list(df.select_dtypes(include=numerics).columns)\n",
        "\n",
        "\n",
        "data = df[numerical_features]\n",
        "\n",
        "X = data.drop(['ID','target'], axis=1)\n",
        "y = data['target']\n",
        "\n",
        "X_train, X_test, y_train, y_test = train_test_split(X, y, test_size=0.3, random_state=101)\n",
        "X_train.shape, y_train.shape, X_test.shape, y_test.shape\n",
        "\n",
        "univariate = f_classif(X_train.fillna(0), y_train)\n",
        "univariate\n",
        "\n",
        "univariate = pd.Series(univariate[1])\n",
        "univariate.index = X_train.columns\n",
        "univariate.sort_values(ascending=False, inplace=True)\n",
        "univariate\n",
        "\n",
        "univariate.sort_values(ascending=False).plot.bar(figsize=(20,8))\n",
        "\n",
        "k_best_features = SelectKBest(f_classif, k=10).fit(X_train.fillna(0), y_train)\n",
        "X_train.columns[k_best_features.get_support()]\n",
        "\n",
        "X_train = k_best_features.transform(X_train.fillna(0))\n",
        "X_train.shape"
      ],
      "metadata": {
        "id": "1CcM_ERYzS-t"
      },
      "execution_count": null,
      "outputs": []
    },
    {
      "cell_type": "markdown",
      "source": [
        "#### Regression"
      ],
      "metadata": {
        "id": "l0EhGT6-yEGw"
      }
    },
    {
      "cell_type": "code",
      "source": [
        "import numpy as np\n",
        "import pandas as pd\n",
        "import matplotlib.pyplot as plt\n",
        "import seaborn as sns\n",
        "from sklearn.model_selection import train_test_split\n",
        "from sklearn.feature_selection import f_regression\n",
        "from sklearn.feature_selection import SelectPercentile\n",
        "\n",
        "df=pd.read_csv('/content/drive/MyDrive/datasets/housing_data.csv')\n",
        "df.head()\n",
        "\n",
        "numerics = ['int16', 'int32','int64', 'float16', 'float32', 'float64']\n",
        "numerical_features = list(df.select_dtypes(include=numerics).columns)\n",
        "\n",
        "data = df[numerical_features]\n",
        "data.head()\n",
        "\n",
        "X = data.drop(['SalePrice'], axis=1)\n",
        "y = data['SalePrice']\n",
        "\n",
        "X_train, X_test, y_train, y_test = train_test_split(X, y, test_size=0.3, random_state=101)\n",
        "X_train.shape, y_train.shape, X_test.shape, y_test.shape\n",
        "\n",
        "univariate = f_regression(X_train.fillna(0), y_train)\n",
        "univariate\n",
        "\n",
        "univariate = pd.Series(univariate[1])\n",
        "univariate.index = X_train.columns\n",
        "univariate.sort_values(ascending=False, inplace=True)\n",
        "univariate\n",
        "\n",
        "univariate.sort_values(ascending=False).plot.bar(figsize=(20,8))\n",
        "\n",
        "k_percentile_features = SelectPercentile(f_regression, percentile=40).fit(X_train.fillna(0), y_train)\n",
        "k_percentile_features.fit(X_train.fillna(0), y_train)\n",
        "X_train.columns[k_percentile_features.get_support()]\n",
        "\n",
        "\n",
        "X_train = k_percentile_features.transform(X_train.fillna(0))\n",
        "X_train.shape\n"
      ],
      "metadata": {
        "id": "eVOVdg5YxXn6"
      },
      "execution_count": null,
      "outputs": []
    },
    {
      "cell_type": "markdown",
      "source": [
        "### Chi Square"
      ],
      "metadata": {
        "id": "F9XgUxGxC4Qw"
      }
    },
    {
      "cell_type": "code",
      "source": [
        "import numpy as np\n",
        "import pandas as pd\n",
        "import matplotlib.pyplot as plt\n",
        "import seaborn as sns\n",
        "from sklearn.model_selection import train_test_split\n",
        "from sklearn.feature_selection import chi2\n",
        "from sklearn.feature_selection import SelectKBest, SelectPercentile\n",
        "%matplotlib inline"
      ],
      "metadata": {
        "id": "A8FGcZQ6C5tB"
      },
      "execution_count": null,
      "outputs": []
    },
    {
      "cell_type": "code",
      "source": [
        "df = pd.read_csv('/content/drive/MyDrive/datasets/titanic.csv')\n",
        "df.head()"
      ],
      "metadata": {
        "id": "hWebpGtLC7zm"
      },
      "execution_count": null,
      "outputs": []
    },
    {
      "cell_type": "code",
      "source": [
        "from sklearn.preprocessing import LabelEncoder\n",
        "label_encoder = LabelEncoder()\n",
        "df['Sex'] = label_encoder.fit_transform(df['Sex'])\n",
        "df['Embarked'] = label_encoder.fit_transform(df['Embarked'])\n",
        "df.head()"
      ],
      "metadata": {
        "id": "bMCo6Qc_Emf-"
      },
      "execution_count": null,
      "outputs": []
    },
    {
      "cell_type": "code",
      "source": [
        "X = df[['Pclass', 'Sex', 'Embarked']]\n",
        "y = df['Survived']"
      ],
      "metadata": {
        "id": "KY5SwL0CDQP5"
      },
      "execution_count": null,
      "outputs": []
    },
    {
      "cell_type": "code",
      "source": [
        "X_train, X_test, y_train, y_test = train_test_split(X, y, test_size=0.3, random_state=101)\n",
        "X_train.shape, y_train.shape, X_test.shape, y_test.shape"
      ],
      "metadata": {
        "id": "0884r4jhDW9C"
      },
      "execution_count": null,
      "outputs": []
    },
    {
      "cell_type": "code",
      "source": [
        "chi_scores = chi2(X_train.fillna(0), y_train)    # chi_scores[0] => chi-squared      &    chi_scores[1] => p-value\n",
        "chi_scores"
      ],
      "metadata": {
        "id": "UEALIJk8DaPT"
      },
      "execution_count": null,
      "outputs": []
    },
    {
      "cell_type": "code",
      "source": [
        "chi_squared = pd.Series(chi_scores[0], index=X.columns)\n",
        "chi_squared.sort_values(ascending=False, inplace=True)\n",
        "chi_squared.plot.bar()"
      ],
      "metadata": {
        "id": "lgV2SLRkGeLD"
      },
      "execution_count": null,
      "outputs": []
    },
    {
      "cell_type": "code",
      "source": [
        "p_value = pd.Series(chi_scores[1], index=X.columns)\n",
        "p_value.sort_values(ascending=False, inplace=True)\n",
        "p_value.plot.bar()"
      ],
      "metadata": {
        "id": "aHkHlVGbH8ps"
      },
      "execution_count": null,
      "outputs": []
    }
  ]
}